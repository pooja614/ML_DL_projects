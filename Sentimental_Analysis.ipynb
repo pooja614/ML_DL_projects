{
  "nbformat": 4,
  "nbformat_minor": 0,
  "metadata": {
    "colab": {
      "provenance": [],
      "collapsed_sections": [],
      "mount_file_id": "1Csg70nfYD4VjMJoCl25tlM09H1p6sTZV",
      "authorship_tag": "ABX9TyMSL3O+xpTWmFgRncuxla7b",
      "include_colab_link": true
    },
    "kernelspec": {
      "name": "python3",
      "display_name": "Python 3"
    },
    "language_info": {
      "name": "python"
    },
    "gpuClass": "standard"
  },
  "cells": [
    {
      "cell_type": "markdown",
      "metadata": {
        "id": "view-in-github",
        "colab_type": "text"
      },
      "source": [
        "<a href=\"https://colab.research.google.com/github/pooja614/ML_DL_projects/blob/main/Sentimental_Analysis.ipynb\" target=\"_parent\"><img src=\"https://colab.research.google.com/assets/colab-badge.svg\" alt=\"Open In Colab\"/></a>"
      ]
    },
    {
      "cell_type": "markdown",
      "source": [
        "# Sentimental Analysis of Book Reviews with Bidirectional LSTM\n",
        "\n",
        "\n",
        "The project deals with sentimental classification of book reviews where ratings-(4,5) are grouped as 1 indicating above average and ratings below 4 as grouped to 0. \n",
        "\n",
        "### Dataset\n",
        "\n",
        "* The dataset is downloaded from kaggle <a href = 'https://www.kaggle.com/competitions/goodreads-books-reviews-290312/overview'>here</a>. \n",
        "* Review and rating columns are consdered. 400000 tuples are considered for this experimentation. "
      ],
      "metadata": {
        "id": "Hn8A3cYROogj"
      }
    },
    {
      "cell_type": "markdown",
      "source": [
        "## Dataset \n",
        "\n",
        "\n"
      ],
      "metadata": {
        "id": "dgXmzbdFNLNj"
      }
    },
    {
      "cell_type": "code",
      "source": [
        "import os \n",
        "os.environ['KAGGLE_USERNAME'] = 'pkpbam'  \n",
        "os.environ['KAGGLE_KEY'] = '3de4136ab536ed90dc2aabdf917dbc1c' \n",
        "# !kaggle datasets download -d meetnagadia/amazon-kindle-book-review-for-sentiment-analysis\n",
        "# ! kaggle competitions download -c goodreads-books-reviews-290312\n",
        "# !kaggle datasets download -d aravindanr22052001/abbreviations-wordlist"
      ],
      "metadata": {
        "colab": {
          "base_uri": "https://localhost:8080/"
        },
        "id": "lk8ycysOYfBL",
        "outputId": "c057fa10-dabc-4dd2-c81a-720c05a9b81f"
      },
      "execution_count": null,
      "outputs": [
        {
          "output_type": "stream",
          "name": "stdout",
          "text": [
            "Downloading abbreviations-wordlist.zip to /content\n",
            "\r  0% 0.00/3.04k [00:00<?, ?B/s]\n",
            "\r100% 3.04k/3.04k [00:00<00:00, 2.53MB/s]\n"
          ]
        }
      ]
    },
    {
      "cell_type": "code",
      "execution_count": null,
      "metadata": {
        "id": "NVs3mwkA3yv8"
      },
      "outputs": [],
      "source": [
        "# import zipfile \n",
        "# folder_path = '/content/drive/MyDrive/Projects/sentiment_analysis/' \n",
        "# zip_path = '/content/drive/MyDrive/Projects/sentiment_analysis/abbreviations-wordlist.zip'\n",
        "# with zipfile.ZipFile(zip_path, 'r') as zip_ref:                                            \n",
        "#   zip_ref.extractall(folder_path) "
      ]
    },
    {
      "cell_type": "code",
      "source": [
        "import spacy \n",
        "import pandas as pd             \n",
        "import numpy as np              \n",
        "import matplotlib.pyplot as plt    \n",
        "import seaborn as sns              \n",
        "import tensorflow as tf        \n",
        "import os                        \n",
        "import nltk\n",
        "import warnings                      \n",
        "import pandas as pd \n",
        "from wordcloud import WordCloud, STOPWORDS, ImageColorGenerator \n",
        "import matplotlib.pyplot as plt\n",
        "from PIL import Image\n",
        "import numpy as np\n",
        "# from IPython import as plt\n",
        "# warnings.filterwarnings('ignore')\n",
        "# display.set_matplotlib_formats('svg') \n",
        " \n",
        "from sklearn.model_selection import train_test_split        \n",
        "\n",
        "folder_path = '/content/drive/MyDrive/Projects/sentiment_analysis/' \n",
        "\n",
        "dtypes_b = {\n",
        "    'review_text':'string', \n",
        "    'rating':'int32', \n",
        "}  \n",
        "df= pd.read_csv(folder_path+ 'goodreads_train.csv', usecols=['rating', 'review_text'], dtype = dtypes_b)"
      ],
      "metadata": {
        "id": "AFur2XRw4w1H"
      },
      "execution_count": null,
      "outputs": []
    },
    {
      "cell_type": "markdown",
      "source": [
        "### About the Dataset \n",
        "\n",
        "\n"
      ],
      "metadata": {
        "id": "QdUI0DM6RHdH"
      }
    },
    {
      "cell_type": "code",
      "source": [
        "df = df[:400000]                    "
      ],
      "metadata": {
        "id": "u6r-uXvXabOo"
      },
      "execution_count": null,
      "outputs": []
    },
    {
      "cell_type": "code",
      "source": [
        "print(f\" shape:{df.shape}\") \n",
        "print(\"value_counts:\")\n",
        "print(df.rating.value_counts())      \n",
        "df.head() "
      ],
      "metadata": {
        "colab": {
          "base_uri": "https://localhost:8080/",
          "height": 362
        },
        "id": "BouIMFtWa9hQ",
        "outputId": "bbe22c23-5e91-4099-f690-68adaad1f867"
      },
      "execution_count": null,
      "outputs": [
        {
          "output_type": "stream",
          "name": "stdout",
          "text": [
            " shape:(400000, 2)\n",
            "value_counts:\n",
            "4    140222\n",
            "5    116614\n",
            "3     85509\n",
            "2     32445\n",
            "0     12619\n",
            "1     12591\n",
            "Name: rating, dtype: int64\n"
          ]
        },
        {
          "output_type": "execute_result",
          "data": {
            "text/plain": [
              "   rating                                        review_text\n",
              "0       5  This is a special book. It started slow for ab...\n",
              "1       3  Recommended by Don Katz. Avail for free in Dec...\n",
              "2       3  A fun, fast paced science fiction thriller. I ...\n",
              "3       0  Recommended reading to understand what is goin...\n",
              "4       4  I really enjoyed this book, and there is a lot..."
            ],
            "text/html": [
              "\n",
              "  <div id=\"df-07e78027-fd01-4ee4-aaa7-8f91285c506c\">\n",
              "    <div class=\"colab-df-container\">\n",
              "      <div>\n",
              "<style scoped>\n",
              "    .dataframe tbody tr th:only-of-type {\n",
              "        vertical-align: middle;\n",
              "    }\n",
              "\n",
              "    .dataframe tbody tr th {\n",
              "        vertical-align: top;\n",
              "    }\n",
              "\n",
              "    .dataframe thead th {\n",
              "        text-align: right;\n",
              "    }\n",
              "</style>\n",
              "<table border=\"1\" class=\"dataframe\">\n",
              "  <thead>\n",
              "    <tr style=\"text-align: right;\">\n",
              "      <th></th>\n",
              "      <th>rating</th>\n",
              "      <th>review_text</th>\n",
              "    </tr>\n",
              "  </thead>\n",
              "  <tbody>\n",
              "    <tr>\n",
              "      <th>0</th>\n",
              "      <td>5</td>\n",
              "      <td>This is a special book. It started slow for ab...</td>\n",
              "    </tr>\n",
              "    <tr>\n",
              "      <th>1</th>\n",
              "      <td>3</td>\n",
              "      <td>Recommended by Don Katz. Avail for free in Dec...</td>\n",
              "    </tr>\n",
              "    <tr>\n",
              "      <th>2</th>\n",
              "      <td>3</td>\n",
              "      <td>A fun, fast paced science fiction thriller. I ...</td>\n",
              "    </tr>\n",
              "    <tr>\n",
              "      <th>3</th>\n",
              "      <td>0</td>\n",
              "      <td>Recommended reading to understand what is goin...</td>\n",
              "    </tr>\n",
              "    <tr>\n",
              "      <th>4</th>\n",
              "      <td>4</td>\n",
              "      <td>I really enjoyed this book, and there is a lot...</td>\n",
              "    </tr>\n",
              "  </tbody>\n",
              "</table>\n",
              "</div>\n",
              "      <button class=\"colab-df-convert\" onclick=\"convertToInteractive('df-07e78027-fd01-4ee4-aaa7-8f91285c506c')\"\n",
              "              title=\"Convert this dataframe to an interactive table.\"\n",
              "              style=\"display:none;\">\n",
              "        \n",
              "  <svg xmlns=\"http://www.w3.org/2000/svg\" height=\"24px\"viewBox=\"0 0 24 24\"\n",
              "       width=\"24px\">\n",
              "    <path d=\"M0 0h24v24H0V0z\" fill=\"none\"/>\n",
              "    <path d=\"M18.56 5.44l.94 2.06.94-2.06 2.06-.94-2.06-.94-.94-2.06-.94 2.06-2.06.94zm-11 1L8.5 8.5l.94-2.06 2.06-.94-2.06-.94L8.5 2.5l-.94 2.06-2.06.94zm10 10l.94 2.06.94-2.06 2.06-.94-2.06-.94-.94-2.06-.94 2.06-2.06.94z\"/><path d=\"M17.41 7.96l-1.37-1.37c-.4-.4-.92-.59-1.43-.59-.52 0-1.04.2-1.43.59L10.3 9.45l-7.72 7.72c-.78.78-.78 2.05 0 2.83L4 21.41c.39.39.9.59 1.41.59.51 0 1.02-.2 1.41-.59l7.78-7.78 2.81-2.81c.8-.78.8-2.07 0-2.86zM5.41 20L4 18.59l7.72-7.72 1.47 1.35L5.41 20z\"/>\n",
              "  </svg>\n",
              "      </button>\n",
              "      \n",
              "  <style>\n",
              "    .colab-df-container {\n",
              "      display:flex;\n",
              "      flex-wrap:wrap;\n",
              "      gap: 12px;\n",
              "    }\n",
              "\n",
              "    .colab-df-convert {\n",
              "      background-color: #E8F0FE;\n",
              "      border: none;\n",
              "      border-radius: 50%;\n",
              "      cursor: pointer;\n",
              "      display: none;\n",
              "      fill: #1967D2;\n",
              "      height: 32px;\n",
              "      padding: 0 0 0 0;\n",
              "      width: 32px;\n",
              "    }\n",
              "\n",
              "    .colab-df-convert:hover {\n",
              "      background-color: #E2EBFA;\n",
              "      box-shadow: 0px 1px 2px rgba(60, 64, 67, 0.3), 0px 1px 3px 1px rgba(60, 64, 67, 0.15);\n",
              "      fill: #174EA6;\n",
              "    }\n",
              "\n",
              "    [theme=dark] .colab-df-convert {\n",
              "      background-color: #3B4455;\n",
              "      fill: #D2E3FC;\n",
              "    }\n",
              "\n",
              "    [theme=dark] .colab-df-convert:hover {\n",
              "      background-color: #434B5C;\n",
              "      box-shadow: 0px 1px 3px 1px rgba(0, 0, 0, 0.15);\n",
              "      filter: drop-shadow(0px 1px 2px rgba(0, 0, 0, 0.3));\n",
              "      fill: #FFFFFF;\n",
              "    }\n",
              "  </style>\n",
              "\n",
              "      <script>\n",
              "        const buttonEl =\n",
              "          document.querySelector('#df-07e78027-fd01-4ee4-aaa7-8f91285c506c button.colab-df-convert');\n",
              "        buttonEl.style.display =\n",
              "          google.colab.kernel.accessAllowed ? 'block' : 'none';\n",
              "\n",
              "        async function convertToInteractive(key) {\n",
              "          const element = document.querySelector('#df-07e78027-fd01-4ee4-aaa7-8f91285c506c');\n",
              "          const dataTable =\n",
              "            await google.colab.kernel.invokeFunction('convertToInteractive',\n",
              "                                                     [key], {});\n",
              "          if (!dataTable) return;\n",
              "\n",
              "          const docLinkHtml = 'Like what you see? Visit the ' +\n",
              "            '<a target=\"_blank\" href=https://colab.research.google.com/notebooks/data_table.ipynb>data table notebook</a>'\n",
              "            + ' to learn more about interactive tables.';\n",
              "          element.innerHTML = '';\n",
              "          dataTable['output_type'] = 'display_data';\n",
              "          await google.colab.output.renderOutput(dataTable, element);\n",
              "          const docLink = document.createElement('div');\n",
              "          docLink.innerHTML = docLinkHtml;\n",
              "          element.appendChild(docLink);\n",
              "        }\n",
              "      </script>\n",
              "    </div>\n",
              "  </div>\n",
              "  "
            ]
          },
          "metadata": {},
          "execution_count": 3
        }
      ]
    },
    {
      "cell_type": "markdown",
      "source": [
        "## Data Preprocessing"
      ],
      "metadata": {
        "id": "aWMUbfswZjDc"
      }
    },
    {
      "cell_type": "code",
      "source": [
        "import re\n",
        "# lower case the sentences\n",
        "df['review_text'] = df['review_text'].apply(lambda x:x.lower())\n",
        "# remove multiple spaces\n",
        "df['review_text'] = df['review_text'].apply(lambda x: \" \".join(x.split()))\n",
        "# Remove urls \n",
        "df['review_text'] = df['review_text'].apply(lambda x: re.sub(r'(http|https|ftp|ssh)://([\\w_-]+(?:(?:\\.[\\w_-]+)+))([\\w.,@?^=%&:/~+#-]*[\\w@?^=%&/~+#-])?', '' , str(x)))\n",
        "# # Remove punctuations\n",
        "df['review_text'] = df['review_text'].apply(lambda x: re.sub('[^a-z A-Z 0-9-]+', '', x))\n",
        "# Remove html tags\n",
        "from bs4 import BeautifulSoup\n",
        "df['review_text'] = df['review_text'].apply(lambda x: BeautifulSoup(x, 'lxml').get_text())\n",
        "# remove stopwords\n",
        "from spacy.lang.en.stop_words import STOP_WORDS\n",
        "df['review_text'] = df['review_text'].apply(lambda x: \" \".join([i for i in x.split() if i not in STOP_WORDS]) )\n",
        "# lemmatization\n",
        "from nltk.stem import WordNetLemmatizer\n",
        "nltk.download('wordnet')\n",
        "nltk.download('omw-1.4') \n",
        "lemmatizer = WordNetLemmatizer()\n",
        "df['review_text'] = df['review_text'].apply(lambda x:lemmatizer.lemmatize(x))\n",
        "\n",
        "# # Rare word removal \n",
        "import nltk \n",
        "nltk.download('punkt') \n",
        "tokens = \" \".join(df['review_text']) \n",
        "freq_dist = nltk.FreqDist(nltk.word_tokenize(tokens))\n",
        "rarewords = list(freq_dist.keys())[-50:]\n",
        "df['review_text'] = df['review_text'].apply(lambda x: '' if x in rarewords else x ) \n"
      ],
      "metadata": {
        "id": "k_6gaNgYz_Sc",
        "colab": {
          "base_uri": "https://localhost:8080/"
        },
        "outputId": "041eaa7e-1945-446e-a989-e37f3f82277a"
      },
      "execution_count": null,
      "outputs": [
        {
          "output_type": "stream",
          "name": "stderr",
          "text": [
            "[nltk_data] Downloading package wordnet to /root/nltk_data...\n",
            "[nltk_data] Downloading package omw-1.4 to /root/nltk_data...\n",
            "[nltk_data] Downloading package punkt to /root/nltk_data...\n",
            "[nltk_data]   Unzipping tokenizers/punkt.zip.\n"
          ]
        }
      ]
    },
    {
      "cell_type": "code",
      "source": [
        "df.to_csv(folder_path + 'p_4l.txt')"
      ],
      "metadata": {
        "id": "_DNP_F38JEjg"
      },
      "execution_count": null,
      "outputs": []
    },
    {
      "cell_type": "markdown",
      "source": [
        "## Embedding Layer"
      ],
      "metadata": {
        "id": "Tmi0xZz09z3N"
      }
    },
    {
      "cell_type": "code",
      "source": [
        "# tokens = ' '.join(df['review_text'])\n",
        "# tokens = nltk.word_tokenize(tokens)\n",
        "# print(f\" length of tokens{len(tokens)}\" )\n",
        "# wc = WordCloud()                            \n",
        "# wc.generate(str(tokens))              \n",
        "# plt.imshow(wc, interpolation='bilinear');"
      ],
      "metadata": {
        "id": "TsNBPepB_rDh"
      },
      "execution_count": null,
      "outputs": []
    },
    {
      "cell_type": "markdown",
      "source": [
        "<pre>\n",
        "All reviews are classified into 2 categories: reviews with rating 4,5 are above average(1),\n",
        "reviews </pre>"
      ],
      "metadata": {
        "id": "Un_ScoHiyCmQ"
      }
    },
    {
      "cell_type": "code",
      "source": [
        "# classifying into above average and average\n",
        "df['rating'] = df['rating'].apply(lambda x: 0 if x <4  else 1) "
      ],
      "metadata": {
        "id": "eW67WKf_-tjy"
      },
      "execution_count": null,
      "outputs": []
    },
    {
      "cell_type": "code",
      "source": [
        "df.rating.value_counts()"
      ],
      "metadata": {
        "colab": {
          "base_uri": "https://localhost:8080/"
        },
        "id": "pMyhjMhq9xpr",
        "outputId": "355f8b69-1179-4222-c302-877be14967ed"
      },
      "execution_count": null,
      "outputs": [
        {
          "output_type": "execute_result",
          "data": {
            "text/plain": [
              "1    256836\n",
              "0    143164\n",
              "Name: rating, dtype: int64"
            ]
          },
          "metadata": {},
          "execution_count": 7
        }
      ]
    },
    {
      "cell_type": "code",
      "source": [
        "x_train, x_test, y_train, y_test = train_test_split(df['review_text'].to_numpy(), df['rating'].to_numpy(), test_size=0.20, random_state=42)\n",
        "len(x_train), len(y_train), len(x_test), len(y_test) "
      ],
      "metadata": {
        "id": "fM_hd6xha726",
        "colab": {
          "base_uri": "https://localhost:8080/"
        },
        "outputId": "b27131ed-3acb-4378-a571-2393f6de14e8"
      },
      "execution_count": null,
      "outputs": [
        {
          "output_type": "execute_result",
          "data": {
            "text/plain": [
              "(320000, 320000, 80000, 80000)"
            ]
          },
          "metadata": {},
          "execution_count": 8
        }
      ]
    },
    {
      "cell_type": "code",
      "source": [
        "# Converting Text into numbers- \n",
        "# Text vectorization\n",
        "\n",
        "import tensorflow as tf\n",
        "from tensorflow.keras import layers \n",
        "from tensorflow.keras.layers.experimental.preprocessing import TextVectorization\n",
        "\n",
        "# Find average number of tokens (words) in training tweets\n",
        "x = round(sum([len(i.split()) for i in x_train])/len(x_train))\n",
        "print(x)             "
      ],
      "metadata": {
        "id": "lo2PFlEi0dF7",
        "colab": {
          "base_uri": "https://localhost:8080/"
        },
        "outputId": "86dd7008-9c6d-4a04-f065-5afcbe18cab1"
      },
      "execution_count": null,
      "outputs": [
        {
          "output_type": "stream",
          "name": "stdout",
          "text": [
            "81\n"
          ]
        }
      ]
    },
    {
      "cell_type": "code",
      "source": [
        "x_train[0]"
      ],
      "metadata": {
        "colab": {
          "base_uri": "https://localhost:8080/",
          "height": 123
        },
        "id": "UpqesVrhXxny",
        "outputId": "2338cda5-2cdb-4dbc-cbe7-b97ca3559636"
      },
      "execution_count": null,
      "outputs": [
        {
          "output_type": "execute_result",
          "data": {
            "text/plain": [
              "'two-second recap paradise evocative coming-of-age debut novel readers means person allowed peek curtain powerful intriguing family things perfect paradise review probably preface review admitting big fan brideshead revisited certain degree beauty nostalgia heartbreak experienced charles ryder interactions marchmain family learned paradise loosely inspired brideshead immediately knew wanted read book unreservedly chelsey philpot built foundations classic novel shes created hauntingly beautiful world filled characters struggles makes story stand right philpot introduces charlotte charlie ryder talented young artist meets fellow boarding school classmate julia buchanan twist fate charlies lower middle-class family new hampshire long julias world old money excess begins dazzle charlie charlies friendship julia develops learns cracks perfect buchanan facade so-called paradise isnt immune realities world realities beginning catch philpot wonderful job playing age-old idea outsider looking hallowed elite world finding beneath artifice little separate average moneyed charlotte initially dazzled buchanan wealth quickly learns world easy shes accepted buchanan fold reminder trust charge julias well-being relationship strings attached good metaphor entire world buchanan family inhabits wealth privilege translate happy life readers repeatedly learns alongside charlie begins learn familys past ultimately im confident readers absolutely understand charlie attracted julias world place equally understand charlie begins find fault seemingly once-perfect world philpots writing beautiful book effortlessly transporting readers grounds new england boarding school summer homes feels possible readers likely appreciate philpots nods brideshead - especially liked certain stuffed animal reappeared different equally plush form - fact book ends far optimistic note things consider thought paradise absolutely great absolutely encourage readers seek waughs book reading paradise philpot remarkable job transforming classic tale modern age strongly believe readers develop stronger appreciation charlotte julia sebastians respective journeys acquainting brideshead crew plus good read classics final verdict paradise wonderful debut novel insightful look perceptions preconceived notions mask realities situation charlies journey julia buchanan family philpot shows dizzying heights impossibilities certain perceptions importance learning positively reflect perceptions theyre debunked person begin grow face realities living hard lesson definitely perfect gives person certain strength theyre mean highly recommend book fans contemporary fiction fans original brideshead recommend fans katie cotugno e lockhart trish doller'"
            ],
            "application/vnd.google.colaboratory.intrinsic+json": {
              "type": "string"
            }
          },
          "metadata": {},
          "execution_count": 43
        }
      ]
    },
    {
      "cell_type": "markdown",
      "source": [
        "After experimentation with different range of values, max_vocab_length and size of the embedding is chosen. "
      ],
      "metadata": {
        "id": "-OD3RrExSOgm"
      }
    },
    {
      "cell_type": "code",
      "source": [
        "# Setup text vectorization with custom variables\n",
        "max_vocab_length = 10000\n",
        "max_length = 80 \n",
        "embed_size = 100\n",
        "text_vectorizer = TextVectorization(max_tokens=max_vocab_length,\n",
        "                                    output_mode = 'int',\n",
        "                                    output_sequence_length=max_length)\n",
        "# Fit textvectorizer \n",
        "text_vectorizer.adapt(x_train)\n",
        "# Creating an embedding layer\n",
        "\n",
        "tf.random.set_seed(42) \n",
        "from tensorflow.keras import layers\n",
        "\n",
        "embedding = layers.Embedding(input_dim=max_vocab_length, # set input shape\n",
        "                             output_dim=embed_size, # set size of embedding vector\n",
        "                             embeddings_initializer=\"uniform\", # default, intialize randomly\n",
        "                             input_length=max_length, # how long is each input\n",
        "                             name=\"embedding_1\") \n",
        "\n"
      ],
      "metadata": {
        "id": "5X91wlBED2He"
      },
      "execution_count": null,
      "outputs": []
    },
    {
      "cell_type": "markdown",
      "source": [
        "## Bidirectional LSTM"
      ],
      "metadata": {
        "id": "rc43JyfRPynj"
      }
    },
    {
      "cell_type": "code",
      "source": [
        "inputs = layers.Input(shape=(1,), dtype=\"string\")\n",
        "x = text_vectorizer(inputs)\n",
        "x = embedding(x)\n",
        "x = layers.Bidirectional(layers.LSTM(64))(x)\n",
        "x = layers.Dense(128, activation='relu')(x)\n",
        "x = layers.Dropout(0.2)(x)\n",
        "x = layers.Dense(32, activation=\"relu\")(x)\n",
        "outputs = layers.Dense(1, activation=\"sigmoid\")(x)\n",
        "model_b = tf.keras.Model(inputs, outputs, name=\"model_b_LSTM\") \n",
        "\n",
        "model_b.compile(loss=\"binary_crossentropy\", \n",
        "                optimizer=tf.keras.optimizers.Adam(),\n",
        "                metrics=[\"accuracy\"])\n",
        "\n",
        "model_b_history = model_b.fit(x_train, \n",
        "                              y_train,\n",
        "                              epochs=1,\n",
        "                              validation_data=(x_test, y_test)) "
      ],
      "metadata": {
        "colab": {
          "base_uri": "https://localhost:8080/"
        },
        "id": "JKE3rLGcD1Ze",
        "outputId": "7a924874-9221-4ddc-d9bf-33d291164dab"
      },
      "execution_count": null,
      "outputs": [
        {
          "output_type": "stream",
          "name": "stdout",
          "text": [
            "15000/15000 [==============================] - 230s 15ms/step - loss: 0.4495 - accuracy: 0.7858 - val_loss: 0.4287 - val_accuracy: 0.7989\n"
          ]
        }
      ]
    },
    {
      "cell_type": "code",
      "source": [
        "model_c_history = model_b.fit(x_train,\n",
        "                              y_train,\n",
        "                              epochs=4,\n",
        "                              validation_data=(x_test, y_test))"
      ],
      "metadata": {
        "colab": {
          "base_uri": "https://localhost:8080/"
        },
        "id": "3ikImOfFA6B1",
        "outputId": "b499e7f1-c3cd-41f7-b100-740d6613a763"
      },
      "execution_count": null,
      "outputs": [
        {
          "output_type": "stream",
          "name": "stdout",
          "text": [
            "Epoch 1/4\n",
            "15000/15000 [==============================] - 232s 15ms/step - loss: 0.3655 - accuracy: 0.8354 - val_loss: 0.4654 - val_accuracy: 0.7961\n",
            "Epoch 2/4\n",
            "15000/15000 [==============================] - 225s 15ms/step - loss: 0.3515 - accuracy: 0.8417 - val_loss: 0.4360 - val_accuracy: 0.7981\n",
            "Epoch 3/4\n",
            "15000/15000 [==============================] - 229s 15ms/step - loss: 0.3156 - accuracy: 0.8609 - val_loss: 0.4847 - val_accuracy: 0.7887\n",
            "Epoch 4/4\n",
            "15000/15000 [==============================] - 228s 15ms/step - loss: 0.2781 - accuracy: 0.8799 - val_loss: 0.5136 - val_accuracy: 0.7836\n"
          ]
        }
      ]
    },
    {
      "cell_type": "markdown",
      "source": [
        " \n",
        "Above model yields on an average 79% accuracy. "
      ],
      "metadata": {
        "id": "pkMBDgSFA1ws"
      }
    },
    {
      "cell_type": "markdown",
      "source": [
        "## Stacked Bidirectional LSTM"
      ],
      "metadata": {
        "id": "LeZ79rVs14Jo"
      }
    },
    {
      "cell_type": "code",
      "source": [
        "inputs = layers.Input(shape=(1,), dtype=\"string\")\n",
        "x = text_vectorizer(inputs)\n",
        "x = embedding(x)\n",
        "x = layers.Bidirectional(layers.LSTM(64, return_sequences=True))(x)\n",
        "x = layers.Dropout(0.2)(x)\n",
        "x = layers.Bidirectional(layers.LSTM(32, return_sequences =True))(x)\n",
        "x = layers.Dropout(0.2)(x)\n",
        "x = layers.Bidirectional(layers.LSTM(32))(x)\n",
        "x = layers.Dropout(0.2)(x)\n",
        "x = layers.Dense(128, activation='relu')(x)\n",
        "x = layers.Dropout(0.2)(x)\n",
        "x = layers.Dense(32, activation=\"relu\")(x) \n",
        "outputs = layers.Dense(1, activation=\"sigmoid\")(x) \n",
        "model_c = tf.keras.Model(inputs, outputs, name=\"model_c_LSTM\") \n",
        "model_c.compile(loss=\"binary_crossentropy\",\n",
        "                optimizer=tf.keras.optimizers.Adam(),\n",
        "                metrics=[\"accuracy\"])\n",
        "\n",
        "model_c_history = model_c.fit(x_train,\n",
        "                              y_train,\n",
        "                              epochs=5,\n",
        "                              validation_data=(x_test, y_test)) "
      ],
      "metadata": {
        "id": "HcQ9fubff__5",
        "colab": {
          "base_uri": "https://localhost:8080/"
        },
        "outputId": "e18b7473-6328-4049-a71c-183f81901830"
      },
      "execution_count": null,
      "outputs": [
        {
          "output_type": "stream",
          "name": "stdout",
          "text": [
            "Epoch 1/5\n",
            "10000/10000 [==============================] - 305s 29ms/step - loss: 0.4598 - accuracy: 0.7807 - val_loss: 0.4349 - val_accuracy: 0.7963\n",
            "Epoch 2/5\n",
            "10000/10000 [==============================] - 285s 28ms/step - loss: 0.4126 - accuracy: 0.8080 - val_loss: 0.4210 - val_accuracy: 0.8026\n",
            "Epoch 3/5\n",
            "10000/10000 [==============================] - 285s 29ms/step - loss: 0.3824 - accuracy: 0.8257 - val_loss: 0.4252 - val_accuracy: 0.7999\n",
            "Epoch 4/5\n",
            "10000/10000 [==============================] - 281s 28ms/step - loss: 0.3519 - accuracy: 0.8417 - val_loss: 0.4404 - val_accuracy: 0.7965\n",
            "Epoch 5/5\n",
            "10000/10000 [==============================] - 300s 30ms/step - loss: 0.3193 - accuracy: 0.8588 - val_loss: 0.4667 - val_accuracy: 0.7911\n"
          ]
        }
      ]
    },
    {
      "cell_type": "markdown",
      "source": [
        "The stacked bidirectional LSTM has resulted in 80% accuracy"
      ],
      "metadata": {
        "id": "YQ__WIQl2HUa"
      }
    },
    {
      "cell_type": "markdown",
      "source": [
        "### Parameter Search"
      ],
      "metadata": {
        "id": "OnFoyuUM11tW"
      }
    },
    {
      "cell_type": "code",
      "source": [
        "inputs = layers.Input(shape=(1,), dtype=\"string\")\n",
        "x = text_vectorizer(inputs)\n",
        "x = embedding(x) \n",
        "x = layers.Bidirectional(layers.LSTM(32, return_sequences=True))(x)\n",
        "x = layers.Dropout(0.2)(x)\n",
        "x = layers.Bidirectional(layers.LSTM(32, return_sequences =True))(x)\n",
        "x = layers.Dropout(0.2)(x)\n",
        "x = layers.Bidirectional(layers.LSTM(32))(x)\n",
        "x = layers.Dropout(0.2)(x)\n",
        "x = layers.Dense(128, activation='relu')(x)\n",
        "x = layers.Dropout(0.2)(x)\n",
        "x = layers.Dense(32, activation=\"relu\")(x) \n",
        "outputs = layers.Dense(1, activation=\"sigmoid\")(x) \n",
        "model_d = tf.keras.Model(inputs, outputs, name=\"model_d_LSTM\") \n",
        "model_d.compile(loss=\"binary_crossentropy\",\n",
        "                optimizer=tf.keras.optimizers.Adam(),\n",
        "                metrics=[\"accuracy\"])\n",
        "\n",
        "model_d_history = model_d.fit(x_train,\n",
        "                              y_train,\n",
        "                              epochs=2,\n",
        "                              validation_data=(x_test, y_test)) "
      ],
      "metadata": {
        "colab": {
          "base_uri": "https://localhost:8080/"
        },
        "id": "57TsJvDURoUh",
        "outputId": "6c8b4cb4-4687-4392-ceba-fdada0533eaf"
      },
      "execution_count": null,
      "outputs": [
        {
          "output_type": "stream",
          "name": "stdout",
          "text": [
            "Epoch 1/2\n",
            "10000/10000 [==============================] - 288s 28ms/step - loss: 0.2867 - accuracy: 0.8786 - val_loss: 0.6711 - val_accuracy: 0.7648\n",
            "Epoch 2/2\n",
            "10000/10000 [==============================] - 278s 28ms/step - loss: 0.2904 - accuracy: 0.8759 - val_loss: 0.4675 - val_accuracy: 0.7818\n"
          ]
        }
      ]
    },
    {
      "cell_type": "code",
      "source": [
        "model_d_history = model_d.fit(x_train,\n",
        "                              y_train,\n",
        "                              epochs=3,\n",
        "                              validation_data=(x_test, y_test))"
      ],
      "metadata": {
        "colab": {
          "base_uri": "https://localhost:8080/"
        },
        "id": "HduY-EgXfDyz",
        "outputId": "f4cb330a-7922-4e85-e1bc-f21e4cce369b"
      },
      "execution_count": null,
      "outputs": [
        {
          "output_type": "stream",
          "name": "stdout",
          "text": [
            "Epoch 1/3\n",
            "10000/10000 [==============================] - 279s 28ms/step - loss: 0.2389 - accuracy: 0.9003 - val_loss: 0.6623 - val_accuracy: 0.7599\n",
            "Epoch 2/3\n",
            "10000/10000 [==============================] - 280s 28ms/step - loss: 0.2421 - accuracy: 0.8987 - val_loss: 0.5383 - val_accuracy: 0.7745\n",
            "Epoch 3/3\n",
            "10000/10000 [==============================] - 281s 28ms/step - loss: 0.2312 - accuracy: 0.9033 - val_loss: 0.6419 - val_accuracy: 0.7744\n"
          ]
        }
      ]
    },
    {
      "cell_type": "code",
      "source": [
        "inputs = layers.Input(shape=(1,), dtype=\"string\")\n",
        "x = text_vectorizer(inputs)\n",
        "x = embedding(x)\n",
        "x = layers.Bidirectional(layers.LSTM(64, return_sequences=True))(x)\n",
        "x = layers.Dropout(0.2)(x)\n",
        "x = layers.Bidirectional(layers.LSTM(32))(x)\n",
        "x = layers.Dropout(0.2)(x)\n",
        "x = layers.Dense(128, activation='relu')(x)\n",
        "x = layers.Dropout(0.2)(x)\n",
        "x = layers.Dense(32, activation=\"relu\")(x) \n",
        "outputs = layers.Dense(1, activation=\"sigmoid\")(x) \n",
        "model_e = tf.keras.Model(inputs, outputs, name=\"model_c_LSTM\") \n",
        "model_e.compile(loss=\"binary_crossentropy\",\n",
        "                optimizer=tf.keras.optimizers.Adam(),\n",
        "                metrics=[\"accuracy\"])\n",
        "\n",
        "model_e_history = model_e.fit(x_train,\n",
        "                              y_train,\n",
        "                              epochs=5,\n",
        "                              validation_data=(x_test, y_test)) "
      ],
      "metadata": {
        "colab": {
          "base_uri": "https://localhost:8080/"
        },
        "id": "NG4pmRWxhGJU",
        "outputId": "78c16e3e-9f63-4447-b6a3-0171598d40e7"
      },
      "execution_count": null,
      "outputs": [
        {
          "output_type": "stream",
          "name": "stdout",
          "text": [
            "Epoch 1/5\n",
            "10000/10000 [==============================] - 268s 21ms/step - loss: 0.2575 - accuracy: 0.8923 - val_loss: 0.6394 - val_accuracy: 0.7713\n",
            "Epoch 2/5\n",
            "10000/10000 [==============================] - 211s 21ms/step - loss: 0.2394 - accuracy: 0.9005 - val_loss: 0.5778 - val_accuracy: 0.7735\n",
            "Epoch 3/5\n",
            "10000/10000 [==============================] - 210s 21ms/step - loss: 0.2226 - accuracy: 0.9077 - val_loss: 0.6427 - val_accuracy: 0.7676\n",
            "Epoch 4/5\n",
            "10000/10000 [==============================] - 212s 21ms/step - loss: 0.1977 - accuracy: 0.9187 - val_loss: 0.6492 - val_accuracy: 0.7638\n",
            "Epoch 5/5\n",
            "10000/10000 [==============================] - 242s 24ms/step - loss: 0.1761 - accuracy: 0.9282 - val_loss: 0.7599 - val_accuracy: 0.7627\n"
          ]
        }
      ]
    },
    {
      "cell_type": "markdown",
      "source": [
        "* No progressive change in the result is observed.\n",
        "* Thus bidirectional stacked LSTM has performed better. "
      ],
      "metadata": {
        "id": "TCn-m9qdl_0b"
      }
    },
    {
      "cell_type": "code",
      "source": [
        "# after this experiment : chapter close: set batch size :\n",
        "model_c.save(\"models/model_c.tf\") "
      ],
      "metadata": {
        "id": "lTTuGl0sAGdx",
        "colab": {
          "base_uri": "https://localhost:8080/"
        },
        "outputId": "3d7af58c-71f3-4197-9207-1bc237e5fa07"
      },
      "execution_count": null,
      "outputs": [
        {
          "output_type": "stream",
          "name": "stderr",
          "text": [
            "WARNING:absl:Found untraced functions such as lstm_cell_1_layer_call_fn, lstm_cell_1_layer_call_and_return_conditional_losses, lstm_cell_2_layer_call_fn, lstm_cell_2_layer_call_and_return_conditional_losses, lstm_cell_4_layer_call_fn while saving (showing 5 of 12). These functions will not be directly callable after loading.\n",
            "WARNING:absl:<keras.layers.recurrent.LSTMCell object at 0x7fd4e5f575d0> has the same name 'LSTMCell' as a built-in Keras object. Consider renaming <class 'keras.layers.recurrent.LSTMCell'> to avoid naming conflicts when loading with `tf.keras.models.load_model`. If renaming is not possible, pass the object in the `custom_objects` parameter of the load function.\n",
            "WARNING:absl:<keras.layers.recurrent.LSTMCell object at 0x7fd4e5f58390> has the same name 'LSTMCell' as a built-in Keras object. Consider renaming <class 'keras.layers.recurrent.LSTMCell'> to avoid naming conflicts when loading with `tf.keras.models.load_model`. If renaming is not possible, pass the object in the `custom_objects` parameter of the load function.\n",
            "WARNING:absl:<keras.layers.recurrent.LSTMCell object at 0x7fd4e5fe3a50> has the same name 'LSTMCell' as a built-in Keras object. Consider renaming <class 'keras.layers.recurrent.LSTMCell'> to avoid naming conflicts when loading with `tf.keras.models.load_model`. If renaming is not possible, pass the object in the `custom_objects` parameter of the load function.\n",
            "WARNING:absl:<keras.layers.recurrent.LSTMCell object at 0x7fd4e5fe2cd0> has the same name 'LSTMCell' as a built-in Keras object. Consider renaming <class 'keras.layers.recurrent.LSTMCell'> to avoid naming conflicts when loading with `tf.keras.models.load_model`. If renaming is not possible, pass the object in the `custom_objects` parameter of the load function.\n",
            "WARNING:absl:<keras.layers.recurrent.LSTMCell object at 0x7fd4e606c7d0> has the same name 'LSTMCell' as a built-in Keras object. Consider renaming <class 'keras.layers.recurrent.LSTMCell'> to avoid naming conflicts when loading with `tf.keras.models.load_model`. If renaming is not possible, pass the object in the `custom_objects` parameter of the load function.\n",
            "WARNING:absl:<keras.layers.recurrent.LSTMCell object at 0x7fd4e6085ad0> has the same name 'LSTMCell' as a built-in Keras object. Consider renaming <class 'keras.layers.recurrent.LSTMCell'> to avoid naming conflicts when loading with `tf.keras.models.load_model`. If renaming is not possible, pass the object in the `custom_objects` parameter of the load function.\n"
          ]
        }
      ]
    },
    {
      "cell_type": "code",
      "source": [
        "# plot curves\n",
        "def plot_loss_curves(history):\n",
        "  \"\"\"\n",
        "  Returns separate loss curves for training and validation metrics.\n",
        "  Args:\n",
        "    history: TensorFlow model History object (see: https://www.tensorflow.org/api_docs/python/tf/keras/callbacks/History)\n",
        "  \"\"\" \n",
        "  loss = history.history['loss']\n",
        "  val_loss = history.history['val_loss']\n",
        "\n",
        "  accuracy = history.history['accuracy']\n",
        "  val_accuracy = history.history['val_accuracy']\n",
        "\n",
        "  epochs = range(len(history.history['loss']))\n",
        "\n",
        "  # Plot loss \n",
        "  plt.figure(figsize=(10,5))\n",
        "  plt.subplot(1,2,1)\n",
        "  plt.plot(epochs, loss, label='training_loss')\n",
        "  plt.plot(epochs, val_loss, label='val_loss')\n",
        "  plt.title('Loss')\n",
        "  plt.xlabel('Epochs')\n",
        "  plt.legend()\n",
        "\n",
        "  # Plot accuracy\n",
        "  plt.subplot(1,2,2)\n",
        "  plt.plot(epochs, accuracy, label='training_accuracy') \n",
        "  plt.plot(epochs, val_accuracy, label='val_accuracy')\n",
        "  plt.title('Accuracy')\n",
        "  plt.xlabel('Epochs')\n",
        "  plt.legend();  "
      ],
      "metadata": {
        "id": "14ExRTVXqMUM"
      },
      "execution_count": null,
      "outputs": []
    },
    {
      "cell_type": "code",
      "source": [
        "plot_loss_curves(model_c_history)"
      ],
      "metadata": {
        "colab": {
          "base_uri": "https://localhost:8080/",
          "height": 350
        },
        "id": "65j8I2-Lqfj7",
        "outputId": "9ba05c90-9641-48a5-8488-b53e4228fc4b"
      },
      "execution_count": null,
      "outputs": [
        {
          "output_type": "display_data",
          "data": {
            "text/plain": [
              "<Figure size 720x360 with 2 Axes>"
            ],
            "image/png": "[encoded data removed]"
          },
          "metadata": {
            "needs_background": "light"
          }
        }
      ]
    },
    {
      "cell_type": "markdown",
      "source": [
        "Thus model performs at 80% accuracy. "
      ],
      "metadata": {
        "id": "nhpiBtjcpWDN"
      }
    },
    {
      "cell_type": "markdown",
      "source": [
        "## Conclusion and Future work\n",
        "\n",
        "* Different models can be experimented. \n",
        "* Transfer Learning of word-embeddings can be explored. "
      ],
      "metadata": {
        "id": "NrcN53FVg8qO"
      }
    },
    {
      "cell_type": "markdown",
      "source": [
        "## References"
      ],
      "metadata": {
        "id": "xtRSnhtypW_b"
      }
    },
    {
      "cell_type": "markdown",
      "source": [
        "\n",
        "* https://bth.diva-portal.org/smash/get/diva2:1454870/FULLTEXT02.pdf \n",
        "* https://dzlab.github.io/dltips/en/tensorflow/textvectorization-preprocessing/ \n",
        "* https://www.analyticsvidhya.com/blog/2021/06/natural-language-processing-sentiment-analysis-using-lstm/  \n",
        "* https://www.kaggle.com/code/aravindanr22052001/sentimentanalysis \n",
        "* https://www.kaggle.com/code/raaavan/fully-connected-and-bidirectional-lstm/notebook \n"
      ],
      "metadata": {
        "id": "KL36E6fqQ9Zd"
      }
    }
  ]
}