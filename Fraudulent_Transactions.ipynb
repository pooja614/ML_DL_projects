{
  "nbformat": 4,
  "nbformat_minor": 0,
  "metadata": {
    "colab": {
      "provenance": [],
      "collapsed_sections": [],
      "mount_file_id": "16KlZEqCkaFDLHuZVfq070VbWXDJLtMht",
      "authorship_tag": "ABX9TyNdLX15jhxp7nCWCrw1PnnF",
      "include_colab_link": true
    },
    "kernelspec": {
      "name": "python3",
      "display_name": "Python 3"
    },
    "language_info": {
      "name": "python"
    }
  },
  "cells": [
    {
      "cell_type": "markdown",
      "metadata": {
        "id": "view-in-github",
        "colab_type": "text"
      },
      "source": [
        "<a href=\"https://colab.research.google.com/github/pooja614/ML_DL_projects/blob/main/Fraudulent_Transactions.ipynb\" target=\"_parent\"><img src=\"https://colab.research.google.com/assets/colab-badge.svg\" alt=\"Open In Colab\"/></a>"
      ]
    },
    {
      "cell_type": "markdown",
      "source": [
        "Author: Pooja KP"
      ],
      "metadata": {
        "id": "ROBOoZrrY3Dx"
      }
    },
    {
      "cell_type": "code",
      "source": [
        "!pip install --upgrade vaex"
      ],
      "metadata": {
        "id": "UUfavTSL-qV8"
      },
      "execution_count": null,
      "outputs": []
    },
    {
      "cell_type": "markdown",
      "source": [
        "### Import Libraries and Load the Data\n",
        "\n",
        "Import major libraries"
      ],
      "metadata": {
        "id": "YHyFcVgxJ5to"
      }
    },
    {
      "cell_type": "code",
      "execution_count": 6,
      "metadata": {
        "id": "LgucpXQulJGc"
      },
      "outputs": [],
      "source": [
        "import vaex \n",
        "import sys \n",
        "import numpy as np \n",
        "import pandas as pd  \n",
        "import matplotlib.pyplot as plt\n",
        "import seaborn as sns  \n",
        "from sklearn.model_selection import train_test_split , KFold\n",
        "from sklearn.model_selection import GridSearchCV ,RandomizedSearchCV\n",
        "from sklearn.model_selection import cross_val_score\n",
        "from sklearn.metrics import classification_report                              \n",
        "from sklearn.metrics import confusion_matrix\n",
        "from sklearn import metrics \n",
        "from IPython import display\n",
        "from sklearn import preprocessing   \n",
        "from sklearn.model_selection import train_test_split\n",
        "from sklearn.metrics import accuracy_score \n",
        "from sklearn. preprocessing import StandardScaler\n",
        "import pickle \n",
        "from sklearn.linear_model import LogisticRegression\n",
        "from sklearn.naive_bayes import GaussianNB\n",
        "from sklearn.naive_bayes import MultinomialNB\n",
        "from sklearn.naive_bayes import BernoulliNB\n",
        "from sklearn.tree import DecisionTreeClassifier\n",
        "from sklearn.neighbors import KNeighborsClassifier \n",
        "import scipy.stats as stats \n",
        "from scipy.special import boxcox1p\n",
        "\n",
        "\n",
        "dtypes={\n",
        "    'step':'int32',\n",
        "    'type':'category',\n",
        "    'amount':'float32',\n",
        "    'oldbalanceOrg':'float32',\n",
        "    'newbalanceOrig':'float32',\n",
        "    'oldbalanceDest':'float32',\n",
        "    'newbalanceDest':'float32',\n",
        "    'isFraud':'int32',\n",
        "    'isFlaggedFraud':'int32',\n",
        "} \n",
        "\n",
        "\"\"\"\n",
        "After loading and observing the data, data types are converted\n",
        "to types with lesser space while loading. \n",
        "\n",
        "\"\"\" \n",
        "\n",
        "folder_path = '/content/drive/MyDrive/ETE_projects/Fraud_Transactions/' \n",
        "df = pd.read_csv(folder_path + 'Fraud.csv', dtype=dtypes)"
      ]
    },
    {
      "cell_type": "markdown",
      "source": [
        "### Visualizing The Data\n",
        "\n",
        "As there are common steps in visualizing the data, we apply them through function. "
      ],
      "metadata": {
        "id": "pwJsurSJ8TpG"
      }
    },
    {
      "cell_type": "code",
      "source": [
        "def visualization():\n",
        "    print(df.head()) \n",
        "    print('------------------------------------------------------------')\n",
        "    print(df.shape)\n",
        "    print('------------------------------------------------------------')\n",
        "    print(df.info())         \n",
        "    print('------------------------------------------------------------')\n",
        "    print(df.type.value_counts())\n",
        "    print('------------------------------------------------------------')\n",
        "    print(df.iloc[0])\n",
        "    print('------------------------------------------------------------')\n",
        "\n",
        "visualization()"
      ],
      "metadata": {
        "colab": {
          "base_uri": "https://localhost:8080/"
        },
        "id": "ncm9pe-P82KW",
        "outputId": "74088529-bf29-4420-c01d-450b86f839d6"
      },
      "execution_count": 4,
      "outputs": [
        {
          "output_type": "stream",
          "name": "stdout",
          "text": [
            "   step      type        amount     nameOrig  oldbalanceOrg  newbalanceOrig  \\\n",
            "0     1   PAYMENT   9839.639648  C1231006815       170136.0   160296.359375   \n",
            "1     1   PAYMENT   1864.280029  C1666544295        21249.0    19384.720703   \n",
            "2     1  TRANSFER    181.000000  C1305486145          181.0        0.000000   \n",
            "3     1  CASH_OUT    181.000000   C840083671          181.0        0.000000   \n",
            "4     1   PAYMENT  11668.139648  C2048537720        41554.0    29885.859375   \n",
            "\n",
            "      nameDest  oldbalanceDest  newbalanceDest  isFraud  isFlaggedFraud  \n",
            "0  M1979787155             0.0             0.0        0               0  \n",
            "1  M2044282225             0.0             0.0        0               0  \n",
            "2   C553264065             0.0             0.0        1               0  \n",
            "3    C38997010         21182.0             0.0        1               0  \n",
            "4  M1230701703             0.0             0.0        0               0  \n",
            "------------------------------------------------------------\n",
            "(6362620, 11)\n",
            "------------------------------------------------------------\n",
            "<class 'pandas.core.frame.DataFrame'>\n",
            "RangeIndex: 6362620 entries, 0 to 6362619\n",
            "Data columns (total 11 columns):\n",
            " #   Column          Dtype   \n",
            "---  ------          -----   \n",
            " 0   step            int32   \n",
            " 1   type            category\n",
            " 2   amount          float32 \n",
            " 3   nameOrig        object  \n",
            " 4   oldbalanceOrg   float32 \n",
            " 5   newbalanceOrig  float32 \n",
            " 6   nameDest        object  \n",
            " 7   oldbalanceDest  float32 \n",
            " 8   newbalanceDest  float32 \n",
            " 9   isFraud         int32   \n",
            " 10  isFlaggedFraud  int32   \n",
            "dtypes: category(1), float32(5), int32(3), object(2)\n",
            "memory usage: 297.3+ MB\n",
            "None\n",
            "------------------------------------------------------------\n",
            "CASH_OUT    2237500\n",
            "PAYMENT     2151495\n",
            "CASH_IN     1399284\n",
            "TRANSFER     532909\n",
            "DEBIT         41432\n",
            "Name: type, dtype: int64\n",
            "------------------------------------------------------------\n",
            "step                          1\n",
            "type                    PAYMENT\n",
            "amount              9839.639648\n",
            "nameOrig            C1231006815\n",
            "oldbalanceOrg          170136.0\n",
            "newbalanceOrig    160296.359375\n",
            "nameDest            M1979787155\n",
            "oldbalanceDest              0.0\n",
            "newbalanceDest              0.0\n",
            "isFraud                       0\n",
            "isFlaggedFraud                0\n",
            "Name: 0, dtype: object\n",
            "------------------------------------------------------------\n"
          ]
        }
      ]
    },
    {
      "cell_type": "markdown",
      "source": [
        "### Data Dictionary\n",
        "About the columns:\n",
        "<pre>\n",
        "step - maps a unit of time in the real world. In this case 1 step is 1 hour of time. Total steps 744 (30 days simulation).\n",
        "type - CASH-IN, CASH-OUT, DEBIT, PAYMENT and TRANSFER.\n",
        "amount - amount of the transaction in local currency.\n",
        "nameOrig - customer who started the transaction\n",
        "oldbalanceOrg - initial balance before the transaction\n",
        "newbalanceOrig - new balance after the transaction\n",
        "nameDest - customer who is the recipient of the transaction\n",
        "oldbalanceDest - initial balance recipient before the transaction. Note that there is not information for customers that start with M (Merchants).\n",
        "newbalanceDest - new balance recipient after the transaction. Note that there is not information for customers that start with M (Merchants).\n",
        "isFraud - This is the transactions made by the fraudulent agents inside the simulation. In this specific dataset the fraudulent behavior of the agents aims to profit by taking control or customers accounts and try to empty the funds by transferring to another account and then cashing out of the system.\n",
        "isFlaggedFraud - The business model aims to control massive transfers from one account to another and flags illegal attempts. An illegal attempt in this dataset is an attempt to transfer more than 200.000 in a single transaction.m\n",
        "</pre>"
      ],
      "metadata": {
        "id": "vsF3E8kA9Ki9"
      }
    },
    {
      "cell_type": "code",
      "source": [
        "df.head(3)"
      ],
      "metadata": {
        "colab": {
          "base_uri": "https://localhost:8080/",
          "height": 143
        },
        "id": "luSZkjH1M_OC",
        "outputId": "7c8d66ed-b65e-4a89-ed73-5a324470ae09"
      },
      "execution_count": 26,
      "outputs": [
        {
          "output_type": "execute_result",
          "data": {
            "text/plain": [
              "   step      type     nameOrig     nameDest  isFraud  isFlaggedFraud  \\\n",
              "0     1   PAYMENT  C1231006815  M1979787155        0               0   \n",
              "1     1   PAYMENT  C1666544295  M2044282225        0               0   \n",
              "2     1  TRANSFER  C1305486145   C553264065        1               0   \n",
              "\n",
              "   oldbalanceOrg  newbalanceOrig     amount  oldbalanceDest  newbalanceDest  \n",
              "0      12.044359       11.984786  15.078545             0.0             0.0  \n",
              "1       9.964112        9.872293  11.236083             0.0             0.0  \n",
              "2       5.204007        0.000000   6.827017             0.0             0.0  "
            ],
            "text/html": [
              "\n",
              "  <div id=\"df-62b39243-b400-43d0-88c6-9070c2e61f8c\">\n",
              "    <div class=\"colab-df-container\">\n",
              "      <div>\n",
              "<style scoped>\n",
              "    .dataframe tbody tr th:only-of-type {\n",
              "        vertical-align: middle;\n",
              "    }\n",
              "\n",
              "    .dataframe tbody tr th {\n",
              "        vertical-align: top;\n",
              "    }\n",
              "\n",
              "    .dataframe thead th {\n",
              "        text-align: right;\n",
              "    }\n",
              "</style>\n",
              "<table border=\"1\" class=\"dataframe\">\n",
              "  <thead>\n",
              "    <tr style=\"text-align: right;\">\n",
              "      <th></th>\n",
              "      <th>step</th>\n",
              "      <th>type</th>\n",
              "      <th>nameOrig</th>\n",
              "      <th>nameDest</th>\n",
              "      <th>isFraud</th>\n",
              "      <th>isFlaggedFraud</th>\n",
              "      <th>oldbalanceOrg</th>\n",
              "      <th>newbalanceOrig</th>\n",
              "      <th>amount</th>\n",
              "      <th>oldbalanceDest</th>\n",
              "      <th>newbalanceDest</th>\n",
              "    </tr>\n",
              "  </thead>\n",
              "  <tbody>\n",
              "    <tr>\n",
              "      <th>0</th>\n",
              "      <td>1</td>\n",
              "      <td>PAYMENT</td>\n",
              "      <td>C1231006815</td>\n",
              "      <td>M1979787155</td>\n",
              "      <td>0</td>\n",
              "      <td>0</td>\n",
              "      <td>12.044359</td>\n",
              "      <td>11.984786</td>\n",
              "      <td>15.078545</td>\n",
              "      <td>0.0</td>\n",
              "      <td>0.0</td>\n",
              "    </tr>\n",
              "    <tr>\n",
              "      <th>1</th>\n",
              "      <td>1</td>\n",
              "      <td>PAYMENT</td>\n",
              "      <td>C1666544295</td>\n",
              "      <td>M2044282225</td>\n",
              "      <td>0</td>\n",
              "      <td>0</td>\n",
              "      <td>9.964112</td>\n",
              "      <td>9.872293</td>\n",
              "      <td>11.236083</td>\n",
              "      <td>0.0</td>\n",
              "      <td>0.0</td>\n",
              "    </tr>\n",
              "    <tr>\n",
              "      <th>2</th>\n",
              "      <td>1</td>\n",
              "      <td>TRANSFER</td>\n",
              "      <td>C1305486145</td>\n",
              "      <td>C553264065</td>\n",
              "      <td>1</td>\n",
              "      <td>0</td>\n",
              "      <td>5.204007</td>\n",
              "      <td>0.000000</td>\n",
              "      <td>6.827017</td>\n",
              "      <td>0.0</td>\n",
              "      <td>0.0</td>\n",
              "    </tr>\n",
              "  </tbody>\n",
              "</table>\n",
              "</div>\n",
              "      <button class=\"colab-df-convert\" onclick=\"convertToInteractive('df-62b39243-b400-43d0-88c6-9070c2e61f8c')\"\n",
              "              title=\"Convert this dataframe to an interactive table.\"\n",
              "              style=\"display:none;\">\n",
              "        \n",
              "  <svg xmlns=\"http://www.w3.org/2000/svg\" height=\"24px\"viewBox=\"0 0 24 24\"\n",
              "       width=\"24px\">\n",
              "    <path d=\"M0 0h24v24H0V0z\" fill=\"none\"/>\n",
              "    <path d=\"M18.56 5.44l.94 2.06.94-2.06 2.06-.94-2.06-.94-.94-2.06-.94 2.06-2.06.94zm-11 1L8.5 8.5l.94-2.06 2.06-.94-2.06-.94L8.5 2.5l-.94 2.06-2.06.94zm10 10l.94 2.06.94-2.06 2.06-.94-2.06-.94-.94-2.06-.94 2.06-2.06.94z\"/><path d=\"M17.41 7.96l-1.37-1.37c-.4-.4-.92-.59-1.43-.59-.52 0-1.04.2-1.43.59L10.3 9.45l-7.72 7.72c-.78.78-.78 2.05 0 2.83L4 21.41c.39.39.9.59 1.41.59.51 0 1.02-.2 1.41-.59l7.78-7.78 2.81-2.81c.8-.78.8-2.07 0-2.86zM5.41 20L4 18.59l7.72-7.72 1.47 1.35L5.41 20z\"/>\n",
              "  </svg>\n",
              "      </button>\n",
              "      \n",
              "  <style>\n",
              "    .colab-df-container {\n",
              "      display:flex;\n",
              "      flex-wrap:wrap;\n",
              "      gap: 12px;\n",
              "    }\n",
              "\n",
              "    .colab-df-convert {\n",
              "      background-color: #E8F0FE;\n",
              "      border: none;\n",
              "      border-radius: 50%;\n",
              "      cursor: pointer;\n",
              "      display: none;\n",
              "      fill: #1967D2;\n",
              "      height: 32px;\n",
              "      padding: 0 0 0 0;\n",
              "      width: 32px;\n",
              "    }\n",
              "\n",
              "    .colab-df-convert:hover {\n",
              "      background-color: #E2EBFA;\n",
              "      box-shadow: 0px 1px 2px rgba(60, 64, 67, 0.3), 0px 1px 3px 1px rgba(60, 64, 67, 0.15);\n",
              "      fill: #174EA6;\n",
              "    }\n",
              "\n",
              "    [theme=dark] .colab-df-convert {\n",
              "      background-color: #3B4455;\n",
              "      fill: #D2E3FC;\n",
              "    }\n",
              "\n",
              "    [theme=dark] .colab-df-convert:hover {\n",
              "      background-color: #434B5C;\n",
              "      box-shadow: 0px 1px 3px 1px rgba(0, 0, 0, 0.15);\n",
              "      filter: drop-shadow(0px 1px 2px rgba(0, 0, 0, 0.3));\n",
              "      fill: #FFFFFF;\n",
              "    }\n",
              "  </style>\n",
              "\n",
              "      <script>\n",
              "        const buttonEl =\n",
              "          document.querySelector('#df-62b39243-b400-43d0-88c6-9070c2e61f8c button.colab-df-convert');\n",
              "        buttonEl.style.display =\n",
              "          google.colab.kernel.accessAllowed ? 'block' : 'none';\n",
              "\n",
              "        async function convertToInteractive(key) {\n",
              "          const element = document.querySelector('#df-62b39243-b400-43d0-88c6-9070c2e61f8c');\n",
              "          const dataTable =\n",
              "            await google.colab.kernel.invokeFunction('convertToInteractive',\n",
              "                                                     [key], {});\n",
              "          if (!dataTable) return;\n",
              "\n",
              "          const docLinkHtml = 'Like what you see? Visit the ' +\n",
              "            '<a target=\"_blank\" href=https://colab.research.google.com/notebooks/data_table.ipynb>data table notebook</a>'\n",
              "            + ' to learn more about interactive tables.';\n",
              "          element.innerHTML = '';\n",
              "          dataTable['output_type'] = 'display_data';\n",
              "          await google.colab.output.renderOutput(dataTable, element);\n",
              "          const docLink = document.createElement('div');\n",
              "          docLink.innerHTML = docLinkHtml;\n",
              "          element.appendChild(docLink);\n",
              "        }\n",
              "      </script>\n",
              "    </div>\n",
              "  </div>\n",
              "  "
            ]
          },
          "metadata": {},
          "execution_count": 26
        }
      ]
    },
    {
      "cell_type": "markdown",
      "source": [
        "### 1. Data cleaning including missing values, outliers and multi-collinearity. "
      ],
      "metadata": {
        "id": "-0oAkhGfaJDt"
      }
    },
    {
      "cell_type": "code",
      "source": [
        "df.isnull().sum() "
      ],
      "metadata": {
        "colab": {
          "base_uri": "https://localhost:8080/"
        },
        "id": "MyRF1PLUIwZ4",
        "outputId": "5ca34569-ee69-431e-ad4c-64910c784eff"
      },
      "execution_count": 100,
      "outputs": [
        {
          "output_type": "execute_result",
          "data": {
            "text/plain": [
              "step              0\n",
              "type              0\n",
              "amount            0\n",
              "nameOrig          0\n",
              "oldbalanceOrg     0\n",
              "newbalanceOrig    0\n",
              "nameDest          0\n",
              "oldbalanceDest    0\n",
              "newbalanceDest    0\n",
              "isFraud           0\n",
              "isFlaggedFraud    0\n",
              "dtype: int64"
            ]
          },
          "metadata": {},
          "execution_count": 100
        }
      ]
    },
    {
      "cell_type": "markdown",
      "source": [
        "* There is no null values.  \n",
        "\n",
        "#### Find types of transactions and number of unique transactions"
      ],
      "metadata": {
        "id": "eSw04XiUaVI4"
      }
    },
    {
      "cell_type": "code",
      "source": [
        " df['type'].unique() "
      ],
      "metadata": {
        "colab": {
          "base_uri": "https://localhost:8080/"
        },
        "id": "R-foQ9c8NHlH",
        "outputId": "a414269c-9c35-4725-f643-4a7221735aeb"
      },
      "execution_count": 11,
      "outputs": [
        {
          "output_type": "execute_result",
          "data": {
            "text/plain": [
              "array(['PAYMENT', 'TRANSFER', 'CASH_OUT', 'DEBIT', 'CASH_IN'],\n",
              "      dtype=object)"
            ]
          },
          "metadata": {},
          "execution_count": 11
        }
      ]
    },
    {
      "cell_type": "code",
      "source": [
        "df['type'].value_counts()  "
      ],
      "metadata": {
        "colab": {
          "base_uri": "https://localhost:8080/"
        },
        "id": "ckhYsttHHQNu",
        "outputId": "959fd851-3602-41b7-dc98-e05829f34857"
      },
      "execution_count": 99,
      "outputs": [
        {
          "output_type": "execute_result",
          "data": {
            "text/plain": [
              "CASH_OUT    2237500\n",
              "PAYMENT     2151495\n",
              "CASH_IN     1399284\n",
              "TRANSFER     532909\n",
              "DEBIT         41432\n",
              "Name: type, dtype: int64"
            ]
          },
          "metadata": {},
          "execution_count": 99
        }
      ]
    },
    {
      "cell_type": "markdown",
      "source": [
        "### Outliers Multi-Collinearity\n",
        "\n",
        "* Correlation: correlation is applied on the dataframe. \n",
        "* Two variables are considered to be perfectly collinear if their correlation coefficient is +/- 1.0."
      ],
      "metadata": {
        "id": "L8eTtx7ka3iv"
      }
    },
    {
      "cell_type": "code",
      "source": [
        "df.corr() "
      ],
      "metadata": {
        "colab": {
          "base_uri": "https://localhost:8080/",
          "height": 300
        },
        "id": "y_oMMZ4Pl_mV",
        "outputId": "b4ed25df-3fb8-4419-ffb1-f55093e22e8b"
      },
      "execution_count": 59,
      "outputs": [
        {
          "output_type": "execute_result",
          "data": {
            "text/plain": [
              "                    step    amount  oldbalanceOrg  newbalanceOrig  \\\n",
              "step            1.000000  0.022373      -0.010058       -0.010299   \n",
              "amount          0.022373  1.000000      -0.002762       -0.007861   \n",
              "oldbalanceOrg  -0.010058 -0.002762       1.000000        0.998803   \n",
              "newbalanceOrig -0.010299 -0.007861       0.998803        1.000000   \n",
              "oldbalanceDest  0.027665  0.294137       0.066243        0.067812   \n",
              "newbalanceDest  0.025888  0.459304       0.042029        0.041837   \n",
              "isFraud         0.031578  0.076688       0.010154       -0.008148   \n",
              "isFlaggedFraud  0.003277  0.012295       0.003835        0.003776   \n",
              "\n",
              "                oldbalanceDest  newbalanceDest   isFraud  isFlaggedFraud  \n",
              "step                  0.027665        0.025888  0.031578        0.003277  \n",
              "amount                0.294137        0.459304  0.076688        0.012295  \n",
              "oldbalanceOrg         0.066243        0.042029  0.010154        0.003835  \n",
              "newbalanceOrig        0.067812        0.041837 -0.008148        0.003776  \n",
              "oldbalanceDest        1.000000        0.976569 -0.005885       -0.000513  \n",
              "newbalanceDest        0.976569        1.000000  0.000535       -0.000529  \n",
              "isFraud              -0.005885        0.000535  1.000000        0.044109  \n",
              "isFlaggedFraud       -0.000513       -0.000529  0.044109        1.000000  "
            ],
            "text/html": [
              "\n",
              "  <div id=\"df-0b1072dc-151d-4f36-b5b8-bf550804ccf0\">\n",
              "    <div class=\"colab-df-container\">\n",
              "      <div>\n",
              "<style scoped>\n",
              "    .dataframe tbody tr th:only-of-type {\n",
              "        vertical-align: middle;\n",
              "    }\n",
              "\n",
              "    .dataframe tbody tr th {\n",
              "        vertical-align: top;\n",
              "    }\n",
              "\n",
              "    .dataframe thead th {\n",
              "        text-align: right;\n",
              "    }\n",
              "</style>\n",
              "<table border=\"1\" class=\"dataframe\">\n",
              "  <thead>\n",
              "    <tr style=\"text-align: right;\">\n",
              "      <th></th>\n",
              "      <th>step</th>\n",
              "      <th>amount</th>\n",
              "      <th>oldbalanceOrg</th>\n",
              "      <th>newbalanceOrig</th>\n",
              "      <th>oldbalanceDest</th>\n",
              "      <th>newbalanceDest</th>\n",
              "      <th>isFraud</th>\n",
              "      <th>isFlaggedFraud</th>\n",
              "    </tr>\n",
              "  </thead>\n",
              "  <tbody>\n",
              "    <tr>\n",
              "      <th>step</th>\n",
              "      <td>1.000000</td>\n",
              "      <td>0.022373</td>\n",
              "      <td>-0.010058</td>\n",
              "      <td>-0.010299</td>\n",
              "      <td>0.027665</td>\n",
              "      <td>0.025888</td>\n",
              "      <td>0.031578</td>\n",
              "      <td>0.003277</td>\n",
              "    </tr>\n",
              "    <tr>\n",
              "      <th>amount</th>\n",
              "      <td>0.022373</td>\n",
              "      <td>1.000000</td>\n",
              "      <td>-0.002762</td>\n",
              "      <td>-0.007861</td>\n",
              "      <td>0.294137</td>\n",
              "      <td>0.459304</td>\n",
              "      <td>0.076688</td>\n",
              "      <td>0.012295</td>\n",
              "    </tr>\n",
              "    <tr>\n",
              "      <th>oldbalanceOrg</th>\n",
              "      <td>-0.010058</td>\n",
              "      <td>-0.002762</td>\n",
              "      <td>1.000000</td>\n",
              "      <td>0.998803</td>\n",
              "      <td>0.066243</td>\n",
              "      <td>0.042029</td>\n",
              "      <td>0.010154</td>\n",
              "      <td>0.003835</td>\n",
              "    </tr>\n",
              "    <tr>\n",
              "      <th>newbalanceOrig</th>\n",
              "      <td>-0.010299</td>\n",
              "      <td>-0.007861</td>\n",
              "      <td>0.998803</td>\n",
              "      <td>1.000000</td>\n",
              "      <td>0.067812</td>\n",
              "      <td>0.041837</td>\n",
              "      <td>-0.008148</td>\n",
              "      <td>0.003776</td>\n",
              "    </tr>\n",
              "    <tr>\n",
              "      <th>oldbalanceDest</th>\n",
              "      <td>0.027665</td>\n",
              "      <td>0.294137</td>\n",
              "      <td>0.066243</td>\n",
              "      <td>0.067812</td>\n",
              "      <td>1.000000</td>\n",
              "      <td>0.976569</td>\n",
              "      <td>-0.005885</td>\n",
              "      <td>-0.000513</td>\n",
              "    </tr>\n",
              "    <tr>\n",
              "      <th>newbalanceDest</th>\n",
              "      <td>0.025888</td>\n",
              "      <td>0.459304</td>\n",
              "      <td>0.042029</td>\n",
              "      <td>0.041837</td>\n",
              "      <td>0.976569</td>\n",
              "      <td>1.000000</td>\n",
              "      <td>0.000535</td>\n",
              "      <td>-0.000529</td>\n",
              "    </tr>\n",
              "    <tr>\n",
              "      <th>isFraud</th>\n",
              "      <td>0.031578</td>\n",
              "      <td>0.076688</td>\n",
              "      <td>0.010154</td>\n",
              "      <td>-0.008148</td>\n",
              "      <td>-0.005885</td>\n",
              "      <td>0.000535</td>\n",
              "      <td>1.000000</td>\n",
              "      <td>0.044109</td>\n",
              "    </tr>\n",
              "    <tr>\n",
              "      <th>isFlaggedFraud</th>\n",
              "      <td>0.003277</td>\n",
              "      <td>0.012295</td>\n",
              "      <td>0.003835</td>\n",
              "      <td>0.003776</td>\n",
              "      <td>-0.000513</td>\n",
              "      <td>-0.000529</td>\n",
              "      <td>0.044109</td>\n",
              "      <td>1.000000</td>\n",
              "    </tr>\n",
              "  </tbody>\n",
              "</table>\n",
              "</div>\n",
              "      <button class=\"colab-df-convert\" onclick=\"convertToInteractive('df-0b1072dc-151d-4f36-b5b8-bf550804ccf0')\"\n",
              "              title=\"Convert this dataframe to an interactive table.\"\n",
              "              style=\"display:none;\">\n",
              "        \n",
              "  <svg xmlns=\"http://www.w3.org/2000/svg\" height=\"24px\"viewBox=\"0 0 24 24\"\n",
              "       width=\"24px\">\n",
              "    <path d=\"M0 0h24v24H0V0z\" fill=\"none\"/>\n",
              "    <path d=\"M18.56 5.44l.94 2.06.94-2.06 2.06-.94-2.06-.94-.94-2.06-.94 2.06-2.06.94zm-11 1L8.5 8.5l.94-2.06 2.06-.94-2.06-.94L8.5 2.5l-.94 2.06-2.06.94zm10 10l.94 2.06.94-2.06 2.06-.94-2.06-.94-.94-2.06-.94 2.06-2.06.94z\"/><path d=\"M17.41 7.96l-1.37-1.37c-.4-.4-.92-.59-1.43-.59-.52 0-1.04.2-1.43.59L10.3 9.45l-7.72 7.72c-.78.78-.78 2.05 0 2.83L4 21.41c.39.39.9.59 1.41.59.51 0 1.02-.2 1.41-.59l7.78-7.78 2.81-2.81c.8-.78.8-2.07 0-2.86zM5.41 20L4 18.59l7.72-7.72 1.47 1.35L5.41 20z\"/>\n",
              "  </svg>\n",
              "      </button>\n",
              "      \n",
              "  <style>\n",
              "    .colab-df-container {\n",
              "      display:flex;\n",
              "      flex-wrap:wrap;\n",
              "      gap: 12px;\n",
              "    }\n",
              "\n",
              "    .colab-df-convert {\n",
              "      background-color: #E8F0FE;\n",
              "      border: none;\n",
              "      border-radius: 50%;\n",
              "      cursor: pointer;\n",
              "      display: none;\n",
              "      fill: #1967D2;\n",
              "      height: 32px;\n",
              "      padding: 0 0 0 0;\n",
              "      width: 32px;\n",
              "    }\n",
              "\n",
              "    .colab-df-convert:hover {\n",
              "      background-color: #E2EBFA;\n",
              "      box-shadow: 0px 1px 2px rgba(60, 64, 67, 0.3), 0px 1px 3px 1px rgba(60, 64, 67, 0.15);\n",
              "      fill: #174EA6;\n",
              "    }\n",
              "\n",
              "    [theme=dark] .colab-df-convert {\n",
              "      background-color: #3B4455;\n",
              "      fill: #D2E3FC;\n",
              "    }\n",
              "\n",
              "    [theme=dark] .colab-df-convert:hover {\n",
              "      background-color: #434B5C;\n",
              "      box-shadow: 0px 1px 3px 1px rgba(0, 0, 0, 0.15);\n",
              "      filter: drop-shadow(0px 1px 2px rgba(0, 0, 0, 0.3));\n",
              "      fill: #FFFFFF;\n",
              "    }\n",
              "  </style>\n",
              "\n",
              "      <script>\n",
              "        const buttonEl =\n",
              "          document.querySelector('#df-0b1072dc-151d-4f36-b5b8-bf550804ccf0 button.colab-df-convert');\n",
              "        buttonEl.style.display =\n",
              "          google.colab.kernel.accessAllowed ? 'block' : 'none';\n",
              "\n",
              "        async function convertToInteractive(key) {\n",
              "          const element = document.querySelector('#df-0b1072dc-151d-4f36-b5b8-bf550804ccf0');\n",
              "          const dataTable =\n",
              "            await google.colab.kernel.invokeFunction('convertToInteractive',\n",
              "                                                     [key], {});\n",
              "          if (!dataTable) return;\n",
              "\n",
              "          const docLinkHtml = 'Like what you see? Visit the ' +\n",
              "            '<a target=\"_blank\" href=https://colab.research.google.com/notebooks/data_table.ipynb>data table notebook</a>'\n",
              "            + ' to learn more about interactive tables.';\n",
              "          element.innerHTML = '';\n",
              "          dataTable['output_type'] = 'display_data';\n",
              "          await google.colab.output.renderOutput(dataTable, element);\n",
              "          const docLink = document.createElement('div');\n",
              "          docLink.innerHTML = docLinkHtml;\n",
              "          element.appendChild(docLink);\n",
              "        }\n",
              "      </script>\n",
              "    </div>\n",
              "  </div>\n",
              "  "
            ]
          },
          "metadata": {},
          "execution_count": 59
        }
      ]
    },
    {
      "cell_type": "markdown",
      "source": [
        "* Most of the datapoints are not correlated. \n",
        "* Oldbalance is correlated with new_balance of person who intitiated transaction. \n",
        "* newbalanceDest and oldbalanceDest is correlated. \n",
        "* It is obivous to correlate as substraction and addition of the amount happens and thus these coluns are correlated.  \n",
        "Thus I don't delete any of the columns as there is no explicit correlation between unrelated variables.  \n",
        "\n",
        "### Skewness of the Data.\n"
      ],
      "metadata": {
        "id": "_Xpx1a-sk7yI"
      }
    },
    {
      "cell_type": "code",
      "source": [
        "df.skew() "
      ],
      "metadata": {
        "colab": {
          "base_uri": "https://localhost:8080/"
        },
        "id": "W9UGO6fqoFUs",
        "outputId": "73d836af-a8fc-481f-a859-294438a24429"
      },
      "execution_count": 63,
      "outputs": [
        {
          "output_type": "stream",
          "name": "stderr",
          "text": [
            "/usr/local/lib/python3.7/dist-packages/ipykernel_launcher.py:1: FutureWarning: Dropping of nuisance columns in DataFrame reductions (with 'numeric_only=None') is deprecated; in a future version this will raise TypeError.  Select only valid columns before calling the reduction.\n",
            "  \"\"\"Entry point for launching an IPython kernel.\n"
          ]
        },
        {
          "output_type": "execute_result",
          "data": {
            "text/plain": [
              "step                0.375177\n",
              "amount             30.993954\n",
              "oldbalanceOrg       5.249137\n",
              "newbalanceOrig      5.176885\n",
              "oldbalanceDest     19.921761\n",
              "newbalanceDest     19.352304\n",
              "isFraud            27.779538\n",
              "isFlaggedFraud    630.603629\n",
              "dtype: float64"
            ]
          },
          "metadata": {},
          "execution_count": 63
        }
      ]
    },
    {
      "cell_type": "markdown",
      "source": [
        "\n",
        "- We observe that data is largely positively skewed and does not have normal distribution. \n",
        "- After some exploration of feature engineering techniques\n",
        "  <a href = \"https://www.kaggle.com/code/prashant111/a-reference-guide-to-feature-engineering-methods/notebook\">here</a> and methods to deal with <a href = \n",
        "  \"https://rcompanion.org/handbook/I_12.html#:~:text=For%20right%2Dskewed%20data%E2%80%94tail,log%20(constant%20%E2%80%93%20x)\">skewed data</a> log and boxcox transformation is employed. \n",
        "- For right-skewed data—tail is on the right, positive skew—, common transformations include square root, cube root, and log.\n",
        "\n",
        "\n",
        "\n",
        "### Variable Transformation\n",
        "\n",
        "\n",
        "- Apply log and boxcox transformation and choose relevant transformations for the respective columns. \n",
        "- 'amount', 'oldbalanceOrg', 'newbalanceOrig', 'oldbalanceDest', 'newbalanceDest' are chosen as it has large skewness. \n",
        "- 0-1 values columns are note choosen.  \n",
        "\n",
        "\n"
      ],
      "metadata": {
        "id": "Si_MYi4Ovunb"
      }
    },
    {
      "cell_type": "code",
      "source": [
        "# apply logtransformation\n",
        "skew_cols = ['amount', 'oldbalanceOrg', 'newbalanceOrig', 'oldbalanceDest', 'newbalanceDest']\n",
        "df_logs = df[skew_cols]\n",
        "df_boxcox = df[skew_cols]\n",
        "for i in skew_cols: \n",
        "  df_logs.loc[:,i] = np.log(df_logs[i]+1)\n",
        "  df_boxcox.loc[:,i] = boxcox1p(df_boxcox[i], 0.1) \n"
      ],
      "metadata": {
        "colab": {
          "base_uri": "https://localhost:8080/"
        },
        "id": "K28HWyDTPhzj",
        "outputId": "0861209b-ed84-43ee-f354-67dbdb9125c1"
      },
      "execution_count": 7,
      "outputs": [
        {
          "output_type": "stream",
          "name": "stderr",
          "text": [
            "/usr/local/lib/python3.7/dist-packages/pandas/core/indexing.py:1951: SettingWithCopyWarning: \n",
            "A value is trying to be set on a copy of a slice from a DataFrame.\n",
            "Try using .loc[row_indexer,col_indexer] = value instead\n",
            "\n",
            "See the caveats in the documentation: https://pandas.pydata.org/pandas-docs/stable/user_guide/indexing.html#returning-a-view-versus-a-copy\n",
            "  self.obj[selected_item_labels] = value\n"
          ]
        }
      ]
    },
    {
      "cell_type": "code",
      "source": [
        "df_logs.skew()"
      ],
      "metadata": {
        "colab": {
          "base_uri": "https://localhost:8080/"
        },
        "id": "h1SA75uJut_7",
        "outputId": "c33af60e-8af3-4356-865a-564dddea901f"
      },
      "execution_count": 50,
      "outputs": [
        {
          "output_type": "execute_result",
          "data": {
            "text/plain": [
              "amount           -0.555018\n",
              "oldbalanceOrg    -0.259723\n",
              "newbalanceOrig    0.440148\n",
              "oldbalanceDest   -0.213261\n",
              "newbalanceDest   -0.386937\n",
              "dtype: float32"
            ]
          },
          "metadata": {},
          "execution_count": 50
        }
      ]
    },
    {
      "cell_type": "code",
      "source": [
        "df_boxcox.skew()"
      ],
      "metadata": {
        "colab": {
          "base_uri": "https://localhost:8080/"
        },
        "id": "TIBZhSzHuyBU",
        "outputId": "544bf9e7-5889-4a2a-d0b6-72d02b2428d8"
      },
      "execution_count": 51,
      "outputs": [
        {
          "output_type": "execute_result",
          "data": {
            "text/plain": [
              "amount           -0.076000\n",
              "oldbalanceOrg     0.342407\n",
              "newbalanceOrig    0.741744\n",
              "oldbalanceDest   -0.040291\n",
              "newbalanceDest   -0.201477\n",
              "dtype: float32"
            ]
          },
          "metadata": {},
          "execution_count": 51
        }
      ]
    },
    {
      "cell_type": "markdown",
      "source": [
        "After observing the skewness after transformation, \n",
        "* Choose boxcox transformation for amount, oldbalanceDest, newbalanceDest\n",
        "* Choose log transformation for oldbalanceOrg, newbalanceOrg"
      ],
      "metadata": {
        "id": "xKN6sGIMvxjK"
      }
    },
    {
      "cell_type": "code",
      "source": [
        "df = pd.concat([df[['step','type','nameOrig', 'nameDest','isFraud', 'isFlaggedFraud']],df_logs[['oldbalanceOrg','newbalanceOrig']], df_boxcox[['amount', 'oldbalanceDest','newbalanceDest']]], axis=1, join='inner') "
      ],
      "metadata": {
        "id": "ue4y6FSNwjmD"
      },
      "execution_count": 8,
      "outputs": []
    },
    {
      "cell_type": "code",
      "source": [
        "print(df.shape)\n",
        "df.head()"
      ],
      "metadata": {
        "colab": {
          "base_uri": "https://localhost:8080/",
          "height": 223
        },
        "id": "s8UtFsLv6PBO",
        "outputId": "31a04d53-4b09-4b04-caed-2c123e3a4bb3"
      },
      "execution_count": 10,
      "outputs": [
        {
          "output_type": "stream",
          "name": "stdout",
          "text": [
            "(6362620, 11)\n"
          ]
        },
        {
          "output_type": "execute_result",
          "data": {
            "text/plain": [
              "   step      type     nameOrig     nameDest  isFraud  isFlaggedFraud  \\\n",
              "0     1   PAYMENT  C1231006815  M1979787155        0               0   \n",
              "1     1   PAYMENT  C1666544295  M2044282225        0               0   \n",
              "2     1  TRANSFER  C1305486145   C553264065        1               0   \n",
              "3     1  CASH_OUT   C840083671    C38997010        1               0   \n",
              "4     1   PAYMENT  C2048537720  M1230701703        0               0   \n",
              "\n",
              "   oldbalanceOrg  newbalanceOrig     amount  oldbalanceDest  newbalanceDest  \n",
              "0      12.044359       11.984786  15.078545        0.000000             0.0  \n",
              "1       9.964112        9.872293  11.236083        0.000000             0.0  \n",
              "2       5.204007        0.000000   6.827017        0.000000             0.0  \n",
              "3       5.204007        0.000000   6.827017       17.076887             0.0  \n",
              "4      10.634773       10.305174  15.509614        0.000000             0.0  "
            ],
            "text/html": [
              "\n",
              "  <div id=\"df-306068b6-2c64-4eb6-8e8e-5a0ad0e8df19\">\n",
              "    <div class=\"colab-df-container\">\n",
              "      <div>\n",
              "<style scoped>\n",
              "    .dataframe tbody tr th:only-of-type {\n",
              "        vertical-align: middle;\n",
              "    }\n",
              "\n",
              "    .dataframe tbody tr th {\n",
              "        vertical-align: top;\n",
              "    }\n",
              "\n",
              "    .dataframe thead th {\n",
              "        text-align: right;\n",
              "    }\n",
              "</style>\n",
              "<table border=\"1\" class=\"dataframe\">\n",
              "  <thead>\n",
              "    <tr style=\"text-align: right;\">\n",
              "      <th></th>\n",
              "      <th>step</th>\n",
              "      <th>type</th>\n",
              "      <th>nameOrig</th>\n",
              "      <th>nameDest</th>\n",
              "      <th>isFraud</th>\n",
              "      <th>isFlaggedFraud</th>\n",
              "      <th>oldbalanceOrg</th>\n",
              "      <th>newbalanceOrig</th>\n",
              "      <th>amount</th>\n",
              "      <th>oldbalanceDest</th>\n",
              "      <th>newbalanceDest</th>\n",
              "    </tr>\n",
              "  </thead>\n",
              "  <tbody>\n",
              "    <tr>\n",
              "      <th>0</th>\n",
              "      <td>1</td>\n",
              "      <td>PAYMENT</td>\n",
              "      <td>C1231006815</td>\n",
              "      <td>M1979787155</td>\n",
              "      <td>0</td>\n",
              "      <td>0</td>\n",
              "      <td>12.044359</td>\n",
              "      <td>11.984786</td>\n",
              "      <td>15.078545</td>\n",
              "      <td>0.000000</td>\n",
              "      <td>0.0</td>\n",
              "    </tr>\n",
              "    <tr>\n",
              "      <th>1</th>\n",
              "      <td>1</td>\n",
              "      <td>PAYMENT</td>\n",
              "      <td>C1666544295</td>\n",
              "      <td>M2044282225</td>\n",
              "      <td>0</td>\n",
              "      <td>0</td>\n",
              "      <td>9.964112</td>\n",
              "      <td>9.872293</td>\n",
              "      <td>11.236083</td>\n",
              "      <td>0.000000</td>\n",
              "      <td>0.0</td>\n",
              "    </tr>\n",
              "    <tr>\n",
              "      <th>2</th>\n",
              "      <td>1</td>\n",
              "      <td>TRANSFER</td>\n",
              "      <td>C1305486145</td>\n",
              "      <td>C553264065</td>\n",
              "      <td>1</td>\n",
              "      <td>0</td>\n",
              "      <td>5.204007</td>\n",
              "      <td>0.000000</td>\n",
              "      <td>6.827017</td>\n",
              "      <td>0.000000</td>\n",
              "      <td>0.0</td>\n",
              "    </tr>\n",
              "    <tr>\n",
              "      <th>3</th>\n",
              "      <td>1</td>\n",
              "      <td>CASH_OUT</td>\n",
              "      <td>C840083671</td>\n",
              "      <td>C38997010</td>\n",
              "      <td>1</td>\n",
              "      <td>0</td>\n",
              "      <td>5.204007</td>\n",
              "      <td>0.000000</td>\n",
              "      <td>6.827017</td>\n",
              "      <td>17.076887</td>\n",
              "      <td>0.0</td>\n",
              "    </tr>\n",
              "    <tr>\n",
              "      <th>4</th>\n",
              "      <td>1</td>\n",
              "      <td>PAYMENT</td>\n",
              "      <td>C2048537720</td>\n",
              "      <td>M1230701703</td>\n",
              "      <td>0</td>\n",
              "      <td>0</td>\n",
              "      <td>10.634773</td>\n",
              "      <td>10.305174</td>\n",
              "      <td>15.509614</td>\n",
              "      <td>0.000000</td>\n",
              "      <td>0.0</td>\n",
              "    </tr>\n",
              "  </tbody>\n",
              "</table>\n",
              "</div>\n",
              "      <button class=\"colab-df-convert\" onclick=\"convertToInteractive('df-306068b6-2c64-4eb6-8e8e-5a0ad0e8df19')\"\n",
              "              title=\"Convert this dataframe to an interactive table.\"\n",
              "              style=\"display:none;\">\n",
              "        \n",
              "  <svg xmlns=\"http://www.w3.org/2000/svg\" height=\"24px\"viewBox=\"0 0 24 24\"\n",
              "       width=\"24px\">\n",
              "    <path d=\"M0 0h24v24H0V0z\" fill=\"none\"/>\n",
              "    <path d=\"M18.56 5.44l.94 2.06.94-2.06 2.06-.94-2.06-.94-.94-2.06-.94 2.06-2.06.94zm-11 1L8.5 8.5l.94-2.06 2.06-.94-2.06-.94L8.5 2.5l-.94 2.06-2.06.94zm10 10l.94 2.06.94-2.06 2.06-.94-2.06-.94-.94-2.06-.94 2.06-2.06.94z\"/><path d=\"M17.41 7.96l-1.37-1.37c-.4-.4-.92-.59-1.43-.59-.52 0-1.04.2-1.43.59L10.3 9.45l-7.72 7.72c-.78.78-.78 2.05 0 2.83L4 21.41c.39.39.9.59 1.41.59.51 0 1.02-.2 1.41-.59l7.78-7.78 2.81-2.81c.8-.78.8-2.07 0-2.86zM5.41 20L4 18.59l7.72-7.72 1.47 1.35L5.41 20z\"/>\n",
              "  </svg>\n",
              "      </button>\n",
              "      \n",
              "  <style>\n",
              "    .colab-df-container {\n",
              "      display:flex;\n",
              "      flex-wrap:wrap;\n",
              "      gap: 12px;\n",
              "    }\n",
              "\n",
              "    .colab-df-convert {\n",
              "      background-color: #E8F0FE;\n",
              "      border: none;\n",
              "      border-radius: 50%;\n",
              "      cursor: pointer;\n",
              "      display: none;\n",
              "      fill: #1967D2;\n",
              "      height: 32px;\n",
              "      padding: 0 0 0 0;\n",
              "      width: 32px;\n",
              "    }\n",
              "\n",
              "    .colab-df-convert:hover {\n",
              "      background-color: #E2EBFA;\n",
              "      box-shadow: 0px 1px 2px rgba(60, 64, 67, 0.3), 0px 1px 3px 1px rgba(60, 64, 67, 0.15);\n",
              "      fill: #174EA6;\n",
              "    }\n",
              "\n",
              "    [theme=dark] .colab-df-convert {\n",
              "      background-color: #3B4455;\n",
              "      fill: #D2E3FC;\n",
              "    }\n",
              "\n",
              "    [theme=dark] .colab-df-convert:hover {\n",
              "      background-color: #434B5C;\n",
              "      box-shadow: 0px 1px 3px 1px rgba(0, 0, 0, 0.15);\n",
              "      filter: drop-shadow(0px 1px 2px rgba(0, 0, 0, 0.3));\n",
              "      fill: #FFFFFF;\n",
              "    }\n",
              "  </style>\n",
              "\n",
              "      <script>\n",
              "        const buttonEl =\n",
              "          document.querySelector('#df-306068b6-2c64-4eb6-8e8e-5a0ad0e8df19 button.colab-df-convert');\n",
              "        buttonEl.style.display =\n",
              "          google.colab.kernel.accessAllowed ? 'block' : 'none';\n",
              "\n",
              "        async function convertToInteractive(key) {\n",
              "          const element = document.querySelector('#df-306068b6-2c64-4eb6-8e8e-5a0ad0e8df19');\n",
              "          const dataTable =\n",
              "            await google.colab.kernel.invokeFunction('convertToInteractive',\n",
              "                                                     [key], {});\n",
              "          if (!dataTable) return;\n",
              "\n",
              "          const docLinkHtml = 'Like what you see? Visit the ' +\n",
              "            '<a target=\"_blank\" href=https://colab.research.google.com/notebooks/data_table.ipynb>data table notebook</a>'\n",
              "            + ' to learn more about interactive tables.';\n",
              "          element.innerHTML = '';\n",
              "          dataTable['output_type'] = 'display_data';\n",
              "          await google.colab.output.renderOutput(dataTable, element);\n",
              "          const docLink = document.createElement('div');\n",
              "          docLink.innerHTML = docLinkHtml;\n",
              "          element.appendChild(docLink);\n",
              "        }\n",
              "      </script>\n",
              "    </div>\n",
              "  </div>\n",
              "  "
            ]
          },
          "metadata": {},
          "execution_count": 10
        }
      ]
    },
    {
      "cell_type": "markdown",
      "source": [
        "- Thus is the transformed data"
      ],
      "metadata": {
        "id": "IKnaS2ISyie_"
      }
    },
    {
      "cell_type": "markdown",
      "source": [
        "### One-hot Encoding\n",
        "\n",
        "- Visualize the data for fraud transactions. "
      ],
      "metadata": {
        "id": "kYEE-hZoyuqJ"
      }
    },
    {
      "cell_type": "code",
      "source": [
        "df[df.isFraud == 1].tail(30) "
      ],
      "metadata": {
        "id": "OSxMCkHHC0Oa",
        "colab": {
          "base_uri": "https://localhost:8080/",
          "height": 990
        },
        "outputId": "63700bc1-6771-488c-a314-ccabcb65996f"
      },
      "execution_count": 25,
      "outputs": [
        {
          "output_type": "execute_result",
          "data": {
            "text/plain": [
              "         step      type     nameOrig     nameDest  isFraud  isFlaggedFraud  \\\n",
              "6362590   741  TRANSFER   C509686434  C1310143791        1               0   \n",
              "6362591   741  CASH_OUT   C919525792   C993635374        1               0   \n",
              "6362592   741  TRANSFER   C457476945  C1688658215        1               0   \n",
              "6362593   741  CASH_OUT   C369315575  C2069429837        1               0   \n",
              "6362594   741  TRANSFER    C31496887  C1251365829        1               0   \n",
              "6362595   741  CASH_OUT  C1092829426   C716019997        1               0   \n",
              "6362596   741  TRANSFER  C1112979339  C2114078084        1               0   \n",
              "6362597   741  CASH_OUT  C1706094385  C2109905271        1               0   \n",
              "6362598   742  TRANSFER  C1044665079   C750074708        1               0   \n",
              "6362599   742  CASH_OUT  C1970706589   C637394241        1               0   \n",
              "6362600   742  TRANSFER    C40604503  C1166857907        1               0   \n",
              "6362601   742  CASH_OUT  C1614818636   C362803701        1               0   \n",
              "6362602   742  TRANSFER  C2089752665   C112833674        1               0   \n",
              "6362603   742  CASH_OUT  C1039979813  C2078394828        1               0   \n",
              "6362604   742  TRANSFER  C1674778854  C1930074465        1               0   \n",
              "6362605   742  CASH_OUT    C43545501   C830041824        1               0   \n",
              "6362606   742  TRANSFER   C959102961   C114421319        1               0   \n",
              "6362607   742  CASH_OUT  C1148860488   C846260566        1               0   \n",
              "6362608   742  TRANSFER  C1226129332  C1744173808        1               0   \n",
              "6362609   742  CASH_OUT  C1113162093   C797688696        1               0   \n",
              "6362610   742  TRANSFER   C778071008  C1812552860        1               0   \n",
              "6362611   742  CASH_OUT   C994950684  C1662241365        1               0   \n",
              "6362612   743  TRANSFER  C1531301470  C1470998563        1               0   \n",
              "6362613   743  CASH_OUT  C1436118706  C1240760502        1               0   \n",
              "6362614   743  TRANSFER  C2013999242  C1850423904        1               0   \n",
              "6362615   743  CASH_OUT   C786484425   C776919290        1               0   \n",
              "6362616   743  TRANSFER  C1529008245  C1881841831        1               0   \n",
              "6362617   743  CASH_OUT  C1162922333  C1365125890        1               0   \n",
              "6362618   743  TRANSFER  C1685995037  C2080388513        1               0   \n",
              "6362619   743  CASH_OUT  C1280323807   C873221189        1               0   \n",
              "\n",
              "         oldbalanceOrg  newbalanceOrig     amount  oldbalanceDest  \\\n",
              "6362590      12.687657             0.0  25.564604        0.000000   \n",
              "6362591      12.687657             0.0  25.564604       27.579817   \n",
              "6362592      12.857517             0.0  26.173862        0.000000   \n",
              "6362593      12.857517             0.0  26.173862       32.192913   \n",
              "6362594      11.884119             0.0  22.818651        0.000000   \n",
              "6362595      11.884119             0.0  22.818651        0.000000   \n",
              "6362596      10.788161             0.0  19.411955        0.000000   \n",
              "6362597      10.788161             0.0  19.411955       27.245598   \n",
              "6362598      15.204067             0.0  35.740852        0.000000   \n",
              "6362599      15.204067             0.0  35.740852       30.642662   \n",
              "6362600      13.389325             0.0  28.149687        0.000000   \n",
              "6362601      13.389325             0.0  28.149687        0.000000   \n",
              "6362602      14.414097             0.0  32.266499        0.000000   \n",
              "6362603      14.414097             0.0  32.266499        0.000000   \n",
              "6362604      10.908768             0.0  19.768829        0.000000   \n",
              "6362605      10.908768             0.0  19.768829        0.000000   \n",
              "6362606      12.624282             0.0  25.339924        0.000000   \n",
              "6362607      12.624282             0.0  25.339924       25.777760   \n",
              "6362608      12.462095             0.0  24.771379        0.000000   \n",
              "6362609      12.462095             0.0  24.771379       17.548729   \n",
              "6362610      11.057503             0.0  20.214907        0.000000   \n",
              "6362611      11.057503             0.0  20.214907       25.007345   \n",
              "6362612      14.045685             0.0  30.737686        0.000000   \n",
              "6362613      14.045685             0.0  30.737686       27.170378   \n",
              "6362614      12.735768             0.0  25.736120        0.000000   \n",
              "6362615      12.735768             0.0  25.736120        0.000000   \n",
              "6362616      15.657869             0.0  37.864403        0.000000   \n",
              "6362617      15.657869             0.0  37.864403       20.448271   \n",
              "6362618      13.652996             0.0  29.168962        0.000000   \n",
              "6362619      13.652996             0.0  29.168962       38.012993   \n",
              "\n",
              "         newbalanceDest  \n",
              "6362590        0.000000  \n",
              "6362591       29.329456  \n",
              "6362592        0.000000  \n",
              "6362593       33.021099  \n",
              "6362594        0.000000  \n",
              "6362595       22.818651  \n",
              "6362596        0.000000  \n",
              "6362597       27.582729  \n",
              "6362598        0.000000  \n",
              "6362599       36.981121  \n",
              "6362600        0.000000  \n",
              "6362601       28.149687  \n",
              "6362602        0.000000  \n",
              "6362603       32.266499  \n",
              "6362604        0.000000  \n",
              "6362605       19.768829  \n",
              "6362606        0.000000  \n",
              "6362607       28.117514  \n",
              "6362608        0.000000  \n",
              "6362609       25.096222  \n",
              "6362610        0.000000  \n",
              "6362611       25.737888  \n",
              "6362612        0.000000  \n",
              "6362613       32.131565  \n",
              "6362614        0.000000  \n",
              "6362615       25.736120  \n",
              "6362616        0.000000  \n",
              "6362617       37.916092  \n",
              "6362618        0.000000  \n",
              "6362619       38.605835  "
            ],
            "text/html": [
              "\n",
              "  <div id=\"df-8a98f6c9-901d-4be3-b154-6aa2d7a683e8\">\n",
              "    <div class=\"colab-df-container\">\n",
              "      <div>\n",
              "<style scoped>\n",
              "    .dataframe tbody tr th:only-of-type {\n",
              "        vertical-align: middle;\n",
              "    }\n",
              "\n",
              "    .dataframe tbody tr th {\n",
              "        vertical-align: top;\n",
              "    }\n",
              "\n",
              "    .dataframe thead th {\n",
              "        text-align: right;\n",
              "    }\n",
              "</style>\n",
              "<table border=\"1\" class=\"dataframe\">\n",
              "  <thead>\n",
              "    <tr style=\"text-align: right;\">\n",
              "      <th></th>\n",
              "      <th>step</th>\n",
              "      <th>type</th>\n",
              "      <th>nameOrig</th>\n",
              "      <th>nameDest</th>\n",
              "      <th>isFraud</th>\n",
              "      <th>isFlaggedFraud</th>\n",
              "      <th>oldbalanceOrg</th>\n",
              "      <th>newbalanceOrig</th>\n",
              "      <th>amount</th>\n",
              "      <th>oldbalanceDest</th>\n",
              "      <th>newbalanceDest</th>\n",
              "    </tr>\n",
              "  </thead>\n",
              "  <tbody>\n",
              "    <tr>\n",
              "      <th>6362590</th>\n",
              "      <td>741</td>\n",
              "      <td>TRANSFER</td>\n",
              "      <td>C509686434</td>\n",
              "      <td>C1310143791</td>\n",
              "      <td>1</td>\n",
              "      <td>0</td>\n",
              "      <td>12.687657</td>\n",
              "      <td>0.0</td>\n",
              "      <td>25.564604</td>\n",
              "      <td>0.000000</td>\n",
              "      <td>0.000000</td>\n",
              "    </tr>\n",
              "    <tr>\n",
              "      <th>6362591</th>\n",
              "      <td>741</td>\n",
              "      <td>CASH_OUT</td>\n",
              "      <td>C919525792</td>\n",
              "      <td>C993635374</td>\n",
              "      <td>1</td>\n",
              "      <td>0</td>\n",
              "      <td>12.687657</td>\n",
              "      <td>0.0</td>\n",
              "      <td>25.564604</td>\n",
              "      <td>27.579817</td>\n",
              "      <td>29.329456</td>\n",
              "    </tr>\n",
              "    <tr>\n",
              "      <th>6362592</th>\n",
              "      <td>741</td>\n",
              "      <td>TRANSFER</td>\n",
              "      <td>C457476945</td>\n",
              "      <td>C1688658215</td>\n",
              "      <td>1</td>\n",
              "      <td>0</td>\n",
              "      <td>12.857517</td>\n",
              "      <td>0.0</td>\n",
              "      <td>26.173862</td>\n",
              "      <td>0.000000</td>\n",
              "      <td>0.000000</td>\n",
              "    </tr>\n",
              "    <tr>\n",
              "      <th>6362593</th>\n",
              "      <td>741</td>\n",
              "      <td>CASH_OUT</td>\n",
              "      <td>C369315575</td>\n",
              "      <td>C2069429837</td>\n",
              "      <td>1</td>\n",
              "      <td>0</td>\n",
              "      <td>12.857517</td>\n",
              "      <td>0.0</td>\n",
              "      <td>26.173862</td>\n",
              "      <td>32.192913</td>\n",
              "      <td>33.021099</td>\n",
              "    </tr>\n",
              "    <tr>\n",
              "      <th>6362594</th>\n",
              "      <td>741</td>\n",
              "      <td>TRANSFER</td>\n",
              "      <td>C31496887</td>\n",
              "      <td>C1251365829</td>\n",
              "      <td>1</td>\n",
              "      <td>0</td>\n",
              "      <td>11.884119</td>\n",
              "      <td>0.0</td>\n",
              "      <td>22.818651</td>\n",
              "      <td>0.000000</td>\n",
              "      <td>0.000000</td>\n",
              "    </tr>\n",
              "    <tr>\n",
              "      <th>6362595</th>\n",
              "      <td>741</td>\n",
              "      <td>CASH_OUT</td>\n",
              "      <td>C1092829426</td>\n",
              "      <td>C716019997</td>\n",
              "      <td>1</td>\n",
              "      <td>0</td>\n",
              "      <td>11.884119</td>\n",
              "      <td>0.0</td>\n",
              "      <td>22.818651</td>\n",
              "      <td>0.000000</td>\n",
              "      <td>22.818651</td>\n",
              "    </tr>\n",
              "    <tr>\n",
              "      <th>6362596</th>\n",
              "      <td>741</td>\n",
              "      <td>TRANSFER</td>\n",
              "      <td>C1112979339</td>\n",
              "      <td>C2114078084</td>\n",
              "      <td>1</td>\n",
              "      <td>0</td>\n",
              "      <td>10.788161</td>\n",
              "      <td>0.0</td>\n",
              "      <td>19.411955</td>\n",
              "      <td>0.000000</td>\n",
              "      <td>0.000000</td>\n",
              "    </tr>\n",
              "    <tr>\n",
              "      <th>6362597</th>\n",
              "      <td>741</td>\n",
              "      <td>CASH_OUT</td>\n",
              "      <td>C1706094385</td>\n",
              "      <td>C2109905271</td>\n",
              "      <td>1</td>\n",
              "      <td>0</td>\n",
              "      <td>10.788161</td>\n",
              "      <td>0.0</td>\n",
              "      <td>19.411955</td>\n",
              "      <td>27.245598</td>\n",
              "      <td>27.582729</td>\n",
              "    </tr>\n",
              "    <tr>\n",
              "      <th>6362598</th>\n",
              "      <td>742</td>\n",
              "      <td>TRANSFER</td>\n",
              "      <td>C1044665079</td>\n",
              "      <td>C750074708</td>\n",
              "      <td>1</td>\n",
              "      <td>0</td>\n",
              "      <td>15.204067</td>\n",
              "      <td>0.0</td>\n",
              "      <td>35.740852</td>\n",
              "      <td>0.000000</td>\n",
              "      <td>0.000000</td>\n",
              "    </tr>\n",
              "    <tr>\n",
              "      <th>6362599</th>\n",
              "      <td>742</td>\n",
              "      <td>CASH_OUT</td>\n",
              "      <td>C1970706589</td>\n",
              "      <td>C637394241</td>\n",
              "      <td>1</td>\n",
              "      <td>0</td>\n",
              "      <td>15.204067</td>\n",
              "      <td>0.0</td>\n",
              "      <td>35.740852</td>\n",
              "      <td>30.642662</td>\n",
              "      <td>36.981121</td>\n",
              "    </tr>\n",
              "    <tr>\n",
              "      <th>6362600</th>\n",
              "      <td>742</td>\n",
              "      <td>TRANSFER</td>\n",
              "      <td>C40604503</td>\n",
              "      <td>C1166857907</td>\n",
              "      <td>1</td>\n",
              "      <td>0</td>\n",
              "      <td>13.389325</td>\n",
              "      <td>0.0</td>\n",
              "      <td>28.149687</td>\n",
              "      <td>0.000000</td>\n",
              "      <td>0.000000</td>\n",
              "    </tr>\n",
              "    <tr>\n",
              "      <th>6362601</th>\n",
              "      <td>742</td>\n",
              "      <td>CASH_OUT</td>\n",
              "      <td>C1614818636</td>\n",
              "      <td>C362803701</td>\n",
              "      <td>1</td>\n",
              "      <td>0</td>\n",
              "      <td>13.389325</td>\n",
              "      <td>0.0</td>\n",
              "      <td>28.149687</td>\n",
              "      <td>0.000000</td>\n",
              "      <td>28.149687</td>\n",
              "    </tr>\n",
              "    <tr>\n",
              "      <th>6362602</th>\n",
              "      <td>742</td>\n",
              "      <td>TRANSFER</td>\n",
              "      <td>C2089752665</td>\n",
              "      <td>C112833674</td>\n",
              "      <td>1</td>\n",
              "      <td>0</td>\n",
              "      <td>14.414097</td>\n",
              "      <td>0.0</td>\n",
              "      <td>32.266499</td>\n",
              "      <td>0.000000</td>\n",
              "      <td>0.000000</td>\n",
              "    </tr>\n",
              "    <tr>\n",
              "      <th>6362603</th>\n",
              "      <td>742</td>\n",
              "      <td>CASH_OUT</td>\n",
              "      <td>C1039979813</td>\n",
              "      <td>C2078394828</td>\n",
              "      <td>1</td>\n",
              "      <td>0</td>\n",
              "      <td>14.414097</td>\n",
              "      <td>0.0</td>\n",
              "      <td>32.266499</td>\n",
              "      <td>0.000000</td>\n",
              "      <td>32.266499</td>\n",
              "    </tr>\n",
              "    <tr>\n",
              "      <th>6362604</th>\n",
              "      <td>742</td>\n",
              "      <td>TRANSFER</td>\n",
              "      <td>C1674778854</td>\n",
              "      <td>C1930074465</td>\n",
              "      <td>1</td>\n",
              "      <td>0</td>\n",
              "      <td>10.908768</td>\n",
              "      <td>0.0</td>\n",
              "      <td>19.768829</td>\n",
              "      <td>0.000000</td>\n",
              "      <td>0.000000</td>\n",
              "    </tr>\n",
              "    <tr>\n",
              "      <th>6362605</th>\n",
              "      <td>742</td>\n",
              "      <td>CASH_OUT</td>\n",
              "      <td>C43545501</td>\n",
              "      <td>C830041824</td>\n",
              "      <td>1</td>\n",
              "      <td>0</td>\n",
              "      <td>10.908768</td>\n",
              "      <td>0.0</td>\n",
              "      <td>19.768829</td>\n",
              "      <td>0.000000</td>\n",
              "      <td>19.768829</td>\n",
              "    </tr>\n",
              "    <tr>\n",
              "      <th>6362606</th>\n",
              "      <td>742</td>\n",
              "      <td>TRANSFER</td>\n",
              "      <td>C959102961</td>\n",
              "      <td>C114421319</td>\n",
              "      <td>1</td>\n",
              "      <td>0</td>\n",
              "      <td>12.624282</td>\n",
              "      <td>0.0</td>\n",
              "      <td>25.339924</td>\n",
              "      <td>0.000000</td>\n",
              "      <td>0.000000</td>\n",
              "    </tr>\n",
              "    <tr>\n",
              "      <th>6362607</th>\n",
              "      <td>742</td>\n",
              "      <td>CASH_OUT</td>\n",
              "      <td>C1148860488</td>\n",
              "      <td>C846260566</td>\n",
              "      <td>1</td>\n",
              "      <td>0</td>\n",
              "      <td>12.624282</td>\n",
              "      <td>0.0</td>\n",
              "      <td>25.339924</td>\n",
              "      <td>25.777760</td>\n",
              "      <td>28.117514</td>\n",
              "    </tr>\n",
              "    <tr>\n",
              "      <th>6362608</th>\n",
              "      <td>742</td>\n",
              "      <td>TRANSFER</td>\n",
              "      <td>C1226129332</td>\n",
              "      <td>C1744173808</td>\n",
              "      <td>1</td>\n",
              "      <td>0</td>\n",
              "      <td>12.462095</td>\n",
              "      <td>0.0</td>\n",
              "      <td>24.771379</td>\n",
              "      <td>0.000000</td>\n",
              "      <td>0.000000</td>\n",
              "    </tr>\n",
              "    <tr>\n",
              "      <th>6362609</th>\n",
              "      <td>742</td>\n",
              "      <td>CASH_OUT</td>\n",
              "      <td>C1113162093</td>\n",
              "      <td>C797688696</td>\n",
              "      <td>1</td>\n",
              "      <td>0</td>\n",
              "      <td>12.462095</td>\n",
              "      <td>0.0</td>\n",
              "      <td>24.771379</td>\n",
              "      <td>17.548729</td>\n",
              "      <td>25.096222</td>\n",
              "    </tr>\n",
              "    <tr>\n",
              "      <th>6362610</th>\n",
              "      <td>742</td>\n",
              "      <td>TRANSFER</td>\n",
              "      <td>C778071008</td>\n",
              "      <td>C1812552860</td>\n",
              "      <td>1</td>\n",
              "      <td>0</td>\n",
              "      <td>11.057503</td>\n",
              "      <td>0.0</td>\n",
              "      <td>20.214907</td>\n",
              "      <td>0.000000</td>\n",
              "      <td>0.000000</td>\n",
              "    </tr>\n",
              "    <tr>\n",
              "      <th>6362611</th>\n",
              "      <td>742</td>\n",
              "      <td>CASH_OUT</td>\n",
              "      <td>C994950684</td>\n",
              "      <td>C1662241365</td>\n",
              "      <td>1</td>\n",
              "      <td>0</td>\n",
              "      <td>11.057503</td>\n",
              "      <td>0.0</td>\n",
              "      <td>20.214907</td>\n",
              "      <td>25.007345</td>\n",
              "      <td>25.737888</td>\n",
              "    </tr>\n",
              "    <tr>\n",
              "      <th>6362612</th>\n",
              "      <td>743</td>\n",
              "      <td>TRANSFER</td>\n",
              "      <td>C1531301470</td>\n",
              "      <td>C1470998563</td>\n",
              "      <td>1</td>\n",
              "      <td>0</td>\n",
              "      <td>14.045685</td>\n",
              "      <td>0.0</td>\n",
              "      <td>30.737686</td>\n",
              "      <td>0.000000</td>\n",
              "      <td>0.000000</td>\n",
              "    </tr>\n",
              "    <tr>\n",
              "      <th>6362613</th>\n",
              "      <td>743</td>\n",
              "      <td>CASH_OUT</td>\n",
              "      <td>C1436118706</td>\n",
              "      <td>C1240760502</td>\n",
              "      <td>1</td>\n",
              "      <td>0</td>\n",
              "      <td>14.045685</td>\n",
              "      <td>0.0</td>\n",
              "      <td>30.737686</td>\n",
              "      <td>27.170378</td>\n",
              "      <td>32.131565</td>\n",
              "    </tr>\n",
              "    <tr>\n",
              "      <th>6362614</th>\n",
              "      <td>743</td>\n",
              "      <td>TRANSFER</td>\n",
              "      <td>C2013999242</td>\n",
              "      <td>C1850423904</td>\n",
              "      <td>1</td>\n",
              "      <td>0</td>\n",
              "      <td>12.735768</td>\n",
              "      <td>0.0</td>\n",
              "      <td>25.736120</td>\n",
              "      <td>0.000000</td>\n",
              "      <td>0.000000</td>\n",
              "    </tr>\n",
              "    <tr>\n",
              "      <th>6362615</th>\n",
              "      <td>743</td>\n",
              "      <td>CASH_OUT</td>\n",
              "      <td>C786484425</td>\n",
              "      <td>C776919290</td>\n",
              "      <td>1</td>\n",
              "      <td>0</td>\n",
              "      <td>12.735768</td>\n",
              "      <td>0.0</td>\n",
              "      <td>25.736120</td>\n",
              "      <td>0.000000</td>\n",
              "      <td>25.736120</td>\n",
              "    </tr>\n",
              "    <tr>\n",
              "      <th>6362616</th>\n",
              "      <td>743</td>\n",
              "      <td>TRANSFER</td>\n",
              "      <td>C1529008245</td>\n",
              "      <td>C1881841831</td>\n",
              "      <td>1</td>\n",
              "      <td>0</td>\n",
              "      <td>15.657869</td>\n",
              "      <td>0.0</td>\n",
              "      <td>37.864403</td>\n",
              "      <td>0.000000</td>\n",
              "      <td>0.000000</td>\n",
              "    </tr>\n",
              "    <tr>\n",
              "      <th>6362617</th>\n",
              "      <td>743</td>\n",
              "      <td>CASH_OUT</td>\n",
              "      <td>C1162922333</td>\n",
              "      <td>C1365125890</td>\n",
              "      <td>1</td>\n",
              "      <td>0</td>\n",
              "      <td>15.657869</td>\n",
              "      <td>0.0</td>\n",
              "      <td>37.864403</td>\n",
              "      <td>20.448271</td>\n",
              "      <td>37.916092</td>\n",
              "    </tr>\n",
              "    <tr>\n",
              "      <th>6362618</th>\n",
              "      <td>743</td>\n",
              "      <td>TRANSFER</td>\n",
              "      <td>C1685995037</td>\n",
              "      <td>C2080388513</td>\n",
              "      <td>1</td>\n",
              "      <td>0</td>\n",
              "      <td>13.652996</td>\n",
              "      <td>0.0</td>\n",
              "      <td>29.168962</td>\n",
              "      <td>0.000000</td>\n",
              "      <td>0.000000</td>\n",
              "    </tr>\n",
              "    <tr>\n",
              "      <th>6362619</th>\n",
              "      <td>743</td>\n",
              "      <td>CASH_OUT</td>\n",
              "      <td>C1280323807</td>\n",
              "      <td>C873221189</td>\n",
              "      <td>1</td>\n",
              "      <td>0</td>\n",
              "      <td>13.652996</td>\n",
              "      <td>0.0</td>\n",
              "      <td>29.168962</td>\n",
              "      <td>38.012993</td>\n",
              "      <td>38.605835</td>\n",
              "    </tr>\n",
              "  </tbody>\n",
              "</table>\n",
              "</div>\n",
              "      <button class=\"colab-df-convert\" onclick=\"convertToInteractive('df-8a98f6c9-901d-4be3-b154-6aa2d7a683e8')\"\n",
              "              title=\"Convert this dataframe to an interactive table.\"\n",
              "              style=\"display:none;\">\n",
              "        \n",
              "  <svg xmlns=\"http://www.w3.org/2000/svg\" height=\"24px\"viewBox=\"0 0 24 24\"\n",
              "       width=\"24px\">\n",
              "    <path d=\"M0 0h24v24H0V0z\" fill=\"none\"/>\n",
              "    <path d=\"M18.56 5.44l.94 2.06.94-2.06 2.06-.94-2.06-.94-.94-2.06-.94 2.06-2.06.94zm-11 1L8.5 8.5l.94-2.06 2.06-.94-2.06-.94L8.5 2.5l-.94 2.06-2.06.94zm10 10l.94 2.06.94-2.06 2.06-.94-2.06-.94-.94-2.06-.94 2.06-2.06.94z\"/><path d=\"M17.41 7.96l-1.37-1.37c-.4-.4-.92-.59-1.43-.59-.52 0-1.04.2-1.43.59L10.3 9.45l-7.72 7.72c-.78.78-.78 2.05 0 2.83L4 21.41c.39.39.9.59 1.41.59.51 0 1.02-.2 1.41-.59l7.78-7.78 2.81-2.81c.8-.78.8-2.07 0-2.86zM5.41 20L4 18.59l7.72-7.72 1.47 1.35L5.41 20z\"/>\n",
              "  </svg>\n",
              "      </button>\n",
              "      \n",
              "  <style>\n",
              "    .colab-df-container {\n",
              "      display:flex;\n",
              "      flex-wrap:wrap;\n",
              "      gap: 12px;\n",
              "    }\n",
              "\n",
              "    .colab-df-convert {\n",
              "      background-color: #E8F0FE;\n",
              "      border: none;\n",
              "      border-radius: 50%;\n",
              "      cursor: pointer;\n",
              "      display: none;\n",
              "      fill: #1967D2;\n",
              "      height: 32px;\n",
              "      padding: 0 0 0 0;\n",
              "      width: 32px;\n",
              "    }\n",
              "\n",
              "    .colab-df-convert:hover {\n",
              "      background-color: #E2EBFA;\n",
              "      box-shadow: 0px 1px 2px rgba(60, 64, 67, 0.3), 0px 1px 3px 1px rgba(60, 64, 67, 0.15);\n",
              "      fill: #174EA6;\n",
              "    }\n",
              "\n",
              "    [theme=dark] .colab-df-convert {\n",
              "      background-color: #3B4455;\n",
              "      fill: #D2E3FC;\n",
              "    }\n",
              "\n",
              "    [theme=dark] .colab-df-convert:hover {\n",
              "      background-color: #434B5C;\n",
              "      box-shadow: 0px 1px 3px 1px rgba(0, 0, 0, 0.15);\n",
              "      filter: drop-shadow(0px 1px 2px rgba(0, 0, 0, 0.3));\n",
              "      fill: #FFFFFF;\n",
              "    }\n",
              "  </style>\n",
              "\n",
              "      <script>\n",
              "        const buttonEl =\n",
              "          document.querySelector('#df-8a98f6c9-901d-4be3-b154-6aa2d7a683e8 button.colab-df-convert');\n",
              "        buttonEl.style.display =\n",
              "          google.colab.kernel.accessAllowed ? 'block' : 'none';\n",
              "\n",
              "        async function convertToInteractive(key) {\n",
              "          const element = document.querySelector('#df-8a98f6c9-901d-4be3-b154-6aa2d7a683e8');\n",
              "          const dataTable =\n",
              "            await google.colab.kernel.invokeFunction('convertToInteractive',\n",
              "                                                     [key], {});\n",
              "          if (!dataTable) return;\n",
              "\n",
              "          const docLinkHtml = 'Like what you see? Visit the ' +\n",
              "            '<a target=\"_blank\" href=https://colab.research.google.com/notebooks/data_table.ipynb>data table notebook</a>'\n",
              "            + ' to learn more about interactive tables.';\n",
              "          element.innerHTML = '';\n",
              "          dataTable['output_type'] = 'display_data';\n",
              "          await google.colab.output.renderOutput(dataTable, element);\n",
              "          const docLink = document.createElement('div');\n",
              "          docLink.innerHTML = docLinkHtml;\n",
              "          element.appendChild(docLink);\n",
              "        }\n",
              "      </script>\n",
              "    </div>\n",
              "  </div>\n",
              "  "
            ]
          },
          "metadata": {},
          "execution_count": 25
        }
      ]
    },
    {
      "cell_type": "markdown",
      "source": [
        "- Thus we observe that customer-to customer transactions has more frauds than other relationship.  \n",
        "- We need to modify the columns  to preserve the information.\n",
        "### Preserving customer or merchant information. \n",
        "- Regex is applied to rename customer id as 'C' and merchant as 'M'"
      ],
      "metadata": {
        "id": "3NTGNOYquCi6"
      }
    },
    {
      "cell_type": "code",
      "source": [
        "import re  \n",
        "df['nameOrig'] = df['nameOrig'].apply(lambda x: re.sub('C[A-Za-z0-9]*', 'C',x)) \n",
        "df['nameDest'] = df['nameDest'].apply(lambda x: re.sub('C[A-Za-z0-9]*','C',x))   \n",
        "df['nameDest'] = df['nameDest'].apply(lambda x: re.sub('M[A-Za-z0-9]*','M',x)) \n",
        "## one hot the keys. \n",
        "df.head() "
      ],
      "metadata": {
        "colab": {
          "base_uri": "https://localhost:8080/",
          "height": 206
        },
        "id": "ER0UyzsC7Hh4",
        "outputId": "3c6924c4-447b-46b5-81bc-952f50a2023d"
      },
      "execution_count": 11,
      "outputs": [
        {
          "output_type": "execute_result",
          "data": {
            "text/plain": [
              "   step      type nameOrig nameDest  isFraud  isFlaggedFraud  oldbalanceOrg  \\\n",
              "0     1   PAYMENT        C        M        0               0      12.044359   \n",
              "1     1   PAYMENT        C        M        0               0       9.964112   \n",
              "2     1  TRANSFER        C        C        1               0       5.204007   \n",
              "3     1  CASH_OUT        C        C        1               0       5.204007   \n",
              "4     1   PAYMENT        C        M        0               0      10.634773   \n",
              "\n",
              "   newbalanceOrig     amount  oldbalanceDest  newbalanceDest  \n",
              "0       11.984786  15.078545        0.000000             0.0  \n",
              "1        9.872293  11.236083        0.000000             0.0  \n",
              "2        0.000000   6.827017        0.000000             0.0  \n",
              "3        0.000000   6.827017       17.076887             0.0  \n",
              "4       10.305174  15.509614        0.000000             0.0  "
            ],
            "text/html": [
              "\n",
              "  <div id=\"df-fa75abc7-ded5-42b0-ab8e-628b25094f9d\">\n",
              "    <div class=\"colab-df-container\">\n",
              "      <div>\n",
              "<style scoped>\n",
              "    .dataframe tbody tr th:only-of-type {\n",
              "        vertical-align: middle;\n",
              "    }\n",
              "\n",
              "    .dataframe tbody tr th {\n",
              "        vertical-align: top;\n",
              "    }\n",
              "\n",
              "    .dataframe thead th {\n",
              "        text-align: right;\n",
              "    }\n",
              "</style>\n",
              "<table border=\"1\" class=\"dataframe\">\n",
              "  <thead>\n",
              "    <tr style=\"text-align: right;\">\n",
              "      <th></th>\n",
              "      <th>step</th>\n",
              "      <th>type</th>\n",
              "      <th>nameOrig</th>\n",
              "      <th>nameDest</th>\n",
              "      <th>isFraud</th>\n",
              "      <th>isFlaggedFraud</th>\n",
              "      <th>oldbalanceOrg</th>\n",
              "      <th>newbalanceOrig</th>\n",
              "      <th>amount</th>\n",
              "      <th>oldbalanceDest</th>\n",
              "      <th>newbalanceDest</th>\n",
              "    </tr>\n",
              "  </thead>\n",
              "  <tbody>\n",
              "    <tr>\n",
              "      <th>0</th>\n",
              "      <td>1</td>\n",
              "      <td>PAYMENT</td>\n",
              "      <td>C</td>\n",
              "      <td>M</td>\n",
              "      <td>0</td>\n",
              "      <td>0</td>\n",
              "      <td>12.044359</td>\n",
              "      <td>11.984786</td>\n",
              "      <td>15.078545</td>\n",
              "      <td>0.000000</td>\n",
              "      <td>0.0</td>\n",
              "    </tr>\n",
              "    <tr>\n",
              "      <th>1</th>\n",
              "      <td>1</td>\n",
              "      <td>PAYMENT</td>\n",
              "      <td>C</td>\n",
              "      <td>M</td>\n",
              "      <td>0</td>\n",
              "      <td>0</td>\n",
              "      <td>9.964112</td>\n",
              "      <td>9.872293</td>\n",
              "      <td>11.236083</td>\n",
              "      <td>0.000000</td>\n",
              "      <td>0.0</td>\n",
              "    </tr>\n",
              "    <tr>\n",
              "      <th>2</th>\n",
              "      <td>1</td>\n",
              "      <td>TRANSFER</td>\n",
              "      <td>C</td>\n",
              "      <td>C</td>\n",
              "      <td>1</td>\n",
              "      <td>0</td>\n",
              "      <td>5.204007</td>\n",
              "      <td>0.000000</td>\n",
              "      <td>6.827017</td>\n",
              "      <td>0.000000</td>\n",
              "      <td>0.0</td>\n",
              "    </tr>\n",
              "    <tr>\n",
              "      <th>3</th>\n",
              "      <td>1</td>\n",
              "      <td>CASH_OUT</td>\n",
              "      <td>C</td>\n",
              "      <td>C</td>\n",
              "      <td>1</td>\n",
              "      <td>0</td>\n",
              "      <td>5.204007</td>\n",
              "      <td>0.000000</td>\n",
              "      <td>6.827017</td>\n",
              "      <td>17.076887</td>\n",
              "      <td>0.0</td>\n",
              "    </tr>\n",
              "    <tr>\n",
              "      <th>4</th>\n",
              "      <td>1</td>\n",
              "      <td>PAYMENT</td>\n",
              "      <td>C</td>\n",
              "      <td>M</td>\n",
              "      <td>0</td>\n",
              "      <td>0</td>\n",
              "      <td>10.634773</td>\n",
              "      <td>10.305174</td>\n",
              "      <td>15.509614</td>\n",
              "      <td>0.000000</td>\n",
              "      <td>0.0</td>\n",
              "    </tr>\n",
              "  </tbody>\n",
              "</table>\n",
              "</div>\n",
              "      <button class=\"colab-df-convert\" onclick=\"convertToInteractive('df-fa75abc7-ded5-42b0-ab8e-628b25094f9d')\"\n",
              "              title=\"Convert this dataframe to an interactive table.\"\n",
              "              style=\"display:none;\">\n",
              "        \n",
              "  <svg xmlns=\"http://www.w3.org/2000/svg\" height=\"24px\"viewBox=\"0 0 24 24\"\n",
              "       width=\"24px\">\n",
              "    <path d=\"M0 0h24v24H0V0z\" fill=\"none\"/>\n",
              "    <path d=\"M18.56 5.44l.94 2.06.94-2.06 2.06-.94-2.06-.94-.94-2.06-.94 2.06-2.06.94zm-11 1L8.5 8.5l.94-2.06 2.06-.94-2.06-.94L8.5 2.5l-.94 2.06-2.06.94zm10 10l.94 2.06.94-2.06 2.06-.94-2.06-.94-.94-2.06-.94 2.06-2.06.94z\"/><path d=\"M17.41 7.96l-1.37-1.37c-.4-.4-.92-.59-1.43-.59-.52 0-1.04.2-1.43.59L10.3 9.45l-7.72 7.72c-.78.78-.78 2.05 0 2.83L4 21.41c.39.39.9.59 1.41.59.51 0 1.02-.2 1.41-.59l7.78-7.78 2.81-2.81c.8-.78.8-2.07 0-2.86zM5.41 20L4 18.59l7.72-7.72 1.47 1.35L5.41 20z\"/>\n",
              "  </svg>\n",
              "      </button>\n",
              "      \n",
              "  <style>\n",
              "    .colab-df-container {\n",
              "      display:flex;\n",
              "      flex-wrap:wrap;\n",
              "      gap: 12px;\n",
              "    }\n",
              "\n",
              "    .colab-df-convert {\n",
              "      background-color: #E8F0FE;\n",
              "      border: none;\n",
              "      border-radius: 50%;\n",
              "      cursor: pointer;\n",
              "      display: none;\n",
              "      fill: #1967D2;\n",
              "      height: 32px;\n",
              "      padding: 0 0 0 0;\n",
              "      width: 32px;\n",
              "    }\n",
              "\n",
              "    .colab-df-convert:hover {\n",
              "      background-color: #E2EBFA;\n",
              "      box-shadow: 0px 1px 2px rgba(60, 64, 67, 0.3), 0px 1px 3px 1px rgba(60, 64, 67, 0.15);\n",
              "      fill: #174EA6;\n",
              "    }\n",
              "\n",
              "    [theme=dark] .colab-df-convert {\n",
              "      background-color: #3B4455;\n",
              "      fill: #D2E3FC;\n",
              "    }\n",
              "\n",
              "    [theme=dark] .colab-df-convert:hover {\n",
              "      background-color: #434B5C;\n",
              "      box-shadow: 0px 1px 3px 1px rgba(0, 0, 0, 0.15);\n",
              "      filter: drop-shadow(0px 1px 2px rgba(0, 0, 0, 0.3));\n",
              "      fill: #FFFFFF;\n",
              "    }\n",
              "  </style>\n",
              "\n",
              "      <script>\n",
              "        const buttonEl =\n",
              "          document.querySelector('#df-fa75abc7-ded5-42b0-ab8e-628b25094f9d button.colab-df-convert');\n",
              "        buttonEl.style.display =\n",
              "          google.colab.kernel.accessAllowed ? 'block' : 'none';\n",
              "\n",
              "        async function convertToInteractive(key) {\n",
              "          const element = document.querySelector('#df-fa75abc7-ded5-42b0-ab8e-628b25094f9d');\n",
              "          const dataTable =\n",
              "            await google.colab.kernel.invokeFunction('convertToInteractive',\n",
              "                                                     [key], {});\n",
              "          if (!dataTable) return;\n",
              "\n",
              "          const docLinkHtml = 'Like what you see? Visit the ' +\n",
              "            '<a target=\"_blank\" href=https://colab.research.google.com/notebooks/data_table.ipynb>data table notebook</a>'\n",
              "            + ' to learn more about interactive tables.';\n",
              "          element.innerHTML = '';\n",
              "          dataTable['output_type'] = 'display_data';\n",
              "          await google.colab.output.renderOutput(dataTable, element);\n",
              "          const docLink = document.createElement('div');\n",
              "          docLink.innerHTML = docLinkHtml;\n",
              "          element.appendChild(docLink);\n",
              "        }\n",
              "      </script>\n",
              "    </div>\n",
              "  </div>\n",
              "  "
            ]
          },
          "metadata": {},
          "execution_count": 11
        }
      ]
    },
    {
      "cell_type": "code",
      "source": [
        "df.type.value_counts()"
      ],
      "metadata": {
        "colab": {
          "base_uri": "https://localhost:8080/"
        },
        "id": "VVVv5C2FZX2V",
        "outputId": "ba75d538-d667-4a28-e28c-095c5b1178b3"
      },
      "execution_count": 31,
      "outputs": [
        {
          "output_type": "execute_result",
          "data": {
            "text/plain": [
              "CASH_OUT    2237500\n",
              "PAYMENT     2151495\n",
              "CASH_IN     1399284\n",
              "TRANSFER     532909\n",
              "DEBIT         41432\n",
              "Name: type, dtype: int64"
            ]
          },
          "metadata": {},
          "execution_count": 31
        }
      ]
    },
    {
      "cell_type": "markdown",
      "source": [
        "* Cash in: to exchange money for some insurance policy\n",
        "* Cash Out: To convert non-cash asset into Cash\n"
      ],
      "metadata": {
        "id": "GHLHdQ0-dOLu"
      }
    },
    {
      "cell_type": "code",
      "source": [
        "df[df.isFraud == 1].type.value_counts() "
      ],
      "metadata": {
        "colab": {
          "base_uri": "https://localhost:8080/"
        },
        "id": "JfrbSVxBZleC",
        "outputId": "82cbf4ec-da2b-4622-eaa7-d58adc0e56a9"
      },
      "execution_count": 32,
      "outputs": [
        {
          "output_type": "execute_result",
          "data": {
            "text/plain": [
              "CASH_OUT    4116\n",
              "TRANSFER    4097\n",
              "CASH_IN        0\n",
              "DEBIT          0\n",
              "PAYMENT        0\n",
              "Name: type, dtype: int64"
            ]
          },
          "metadata": {},
          "execution_count": 32
        }
      ]
    },
    {
      "cell_type": "markdown",
      "source": [
        "* It is observed that cash-out and transfer modes have more fraud chances."
      ],
      "metadata": {
        "id": "O1pR_CEoGUfb"
      }
    },
    {
      "cell_type": "markdown",
      "source": [
        "\n",
        "- Onehot encoding is applied to 'nameOrig' and 'nameDest' which contains 'C' and 'M' values. 'type' is also encoded\n"
      ],
      "metadata": {
        "id": "CvNz5hNqz881"
      }
    },
    {
      "cell_type": "code",
      "source": [
        "from sklearn import preprocessing \n",
        "ohe = preprocessing.OneHotEncoder()                                       \n",
        "df= pd.get_dummies(df, columns=['type','nameOrig', 'nameDest'])\n",
        "df.head(3)"
      ],
      "metadata": {
        "colab": {
          "base_uri": "https://localhost:8080/",
          "height": 207
        },
        "id": "oFmXRUVs72pe",
        "outputId": "a422515e-0f6c-4e05-9491-991a0b937845"
      },
      "execution_count": 12,
      "outputs": [
        {
          "output_type": "execute_result",
          "data": {
            "text/plain": [
              "   step  isFraud  isFlaggedFraud  oldbalanceOrg  newbalanceOrig     amount  \\\n",
              "0     1        0               0      12.044359       11.984786  15.078545   \n",
              "1     1        0               0       9.964112        9.872293  11.236083   \n",
              "2     1        1               0       5.204007        0.000000   6.827017   \n",
              "\n",
              "   oldbalanceDest  newbalanceDest  type_CASH_IN  type_CASH_OUT  type_DEBIT  \\\n",
              "0             0.0             0.0             0              0           0   \n",
              "1             0.0             0.0             0              0           0   \n",
              "2             0.0             0.0             0              0           0   \n",
              "\n",
              "   type_PAYMENT  type_TRANSFER  nameOrig_C  nameDest_C  nameDest_M  \n",
              "0             1              0           1           0           1  \n",
              "1             1              0           1           0           1  \n",
              "2             0              1           1           1           0  "
            ],
            "text/html": [
              "\n",
              "  <div id=\"df-abd910e2-9608-4c10-bc4f-e228deec1a47\">\n",
              "    <div class=\"colab-df-container\">\n",
              "      <div>\n",
              "<style scoped>\n",
              "    .dataframe tbody tr th:only-of-type {\n",
              "        vertical-align: middle;\n",
              "    }\n",
              "\n",
              "    .dataframe tbody tr th {\n",
              "        vertical-align: top;\n",
              "    }\n",
              "\n",
              "    .dataframe thead th {\n",
              "        text-align: right;\n",
              "    }\n",
              "</style>\n",
              "<table border=\"1\" class=\"dataframe\">\n",
              "  <thead>\n",
              "    <tr style=\"text-align: right;\">\n",
              "      <th></th>\n",
              "      <th>step</th>\n",
              "      <th>isFraud</th>\n",
              "      <th>isFlaggedFraud</th>\n",
              "      <th>oldbalanceOrg</th>\n",
              "      <th>newbalanceOrig</th>\n",
              "      <th>amount</th>\n",
              "      <th>oldbalanceDest</th>\n",
              "      <th>newbalanceDest</th>\n",
              "      <th>type_CASH_IN</th>\n",
              "      <th>type_CASH_OUT</th>\n",
              "      <th>type_DEBIT</th>\n",
              "      <th>type_PAYMENT</th>\n",
              "      <th>type_TRANSFER</th>\n",
              "      <th>nameOrig_C</th>\n",
              "      <th>nameDest_C</th>\n",
              "      <th>nameDest_M</th>\n",
              "    </tr>\n",
              "  </thead>\n",
              "  <tbody>\n",
              "    <tr>\n",
              "      <th>0</th>\n",
              "      <td>1</td>\n",
              "      <td>0</td>\n",
              "      <td>0</td>\n",
              "      <td>12.044359</td>\n",
              "      <td>11.984786</td>\n",
              "      <td>15.078545</td>\n",
              "      <td>0.0</td>\n",
              "      <td>0.0</td>\n",
              "      <td>0</td>\n",
              "      <td>0</td>\n",
              "      <td>0</td>\n",
              "      <td>1</td>\n",
              "      <td>0</td>\n",
              "      <td>1</td>\n",
              "      <td>0</td>\n",
              "      <td>1</td>\n",
              "    </tr>\n",
              "    <tr>\n",
              "      <th>1</th>\n",
              "      <td>1</td>\n",
              "      <td>0</td>\n",
              "      <td>0</td>\n",
              "      <td>9.964112</td>\n",
              "      <td>9.872293</td>\n",
              "      <td>11.236083</td>\n",
              "      <td>0.0</td>\n",
              "      <td>0.0</td>\n",
              "      <td>0</td>\n",
              "      <td>0</td>\n",
              "      <td>0</td>\n",
              "      <td>1</td>\n",
              "      <td>0</td>\n",
              "      <td>1</td>\n",
              "      <td>0</td>\n",
              "      <td>1</td>\n",
              "    </tr>\n",
              "    <tr>\n",
              "      <th>2</th>\n",
              "      <td>1</td>\n",
              "      <td>1</td>\n",
              "      <td>0</td>\n",
              "      <td>5.204007</td>\n",
              "      <td>0.000000</td>\n",
              "      <td>6.827017</td>\n",
              "      <td>0.0</td>\n",
              "      <td>0.0</td>\n",
              "      <td>0</td>\n",
              "      <td>0</td>\n",
              "      <td>0</td>\n",
              "      <td>0</td>\n",
              "      <td>1</td>\n",
              "      <td>1</td>\n",
              "      <td>1</td>\n",
              "      <td>0</td>\n",
              "    </tr>\n",
              "  </tbody>\n",
              "</table>\n",
              "</div>\n",
              "      <button class=\"colab-df-convert\" onclick=\"convertToInteractive('df-abd910e2-9608-4c10-bc4f-e228deec1a47')\"\n",
              "              title=\"Convert this dataframe to an interactive table.\"\n",
              "              style=\"display:none;\">\n",
              "        \n",
              "  <svg xmlns=\"http://www.w3.org/2000/svg\" height=\"24px\"viewBox=\"0 0 24 24\"\n",
              "       width=\"24px\">\n",
              "    <path d=\"M0 0h24v24H0V0z\" fill=\"none\"/>\n",
              "    <path d=\"M18.56 5.44l.94 2.06.94-2.06 2.06-.94-2.06-.94-.94-2.06-.94 2.06-2.06.94zm-11 1L8.5 8.5l.94-2.06 2.06-.94-2.06-.94L8.5 2.5l-.94 2.06-2.06.94zm10 10l.94 2.06.94-2.06 2.06-.94-2.06-.94-.94-2.06-.94 2.06-2.06.94z\"/><path d=\"M17.41 7.96l-1.37-1.37c-.4-.4-.92-.59-1.43-.59-.52 0-1.04.2-1.43.59L10.3 9.45l-7.72 7.72c-.78.78-.78 2.05 0 2.83L4 21.41c.39.39.9.59 1.41.59.51 0 1.02-.2 1.41-.59l7.78-7.78 2.81-2.81c.8-.78.8-2.07 0-2.86zM5.41 20L4 18.59l7.72-7.72 1.47 1.35L5.41 20z\"/>\n",
              "  </svg>\n",
              "      </button>\n",
              "      \n",
              "  <style>\n",
              "    .colab-df-container {\n",
              "      display:flex;\n",
              "      flex-wrap:wrap;\n",
              "      gap: 12px;\n",
              "    }\n",
              "\n",
              "    .colab-df-convert {\n",
              "      background-color: #E8F0FE;\n",
              "      border: none;\n",
              "      border-radius: 50%;\n",
              "      cursor: pointer;\n",
              "      display: none;\n",
              "      fill: #1967D2;\n",
              "      height: 32px;\n",
              "      padding: 0 0 0 0;\n",
              "      width: 32px;\n",
              "    }\n",
              "\n",
              "    .colab-df-convert:hover {\n",
              "      background-color: #E2EBFA;\n",
              "      box-shadow: 0px 1px 2px rgba(60, 64, 67, 0.3), 0px 1px 3px 1px rgba(60, 64, 67, 0.15);\n",
              "      fill: #174EA6;\n",
              "    }\n",
              "\n",
              "    [theme=dark] .colab-df-convert {\n",
              "      background-color: #3B4455;\n",
              "      fill: #D2E3FC;\n",
              "    }\n",
              "\n",
              "    [theme=dark] .colab-df-convert:hover {\n",
              "      background-color: #434B5C;\n",
              "      box-shadow: 0px 1px 3px 1px rgba(0, 0, 0, 0.15);\n",
              "      filter: drop-shadow(0px 1px 2px rgba(0, 0, 0, 0.3));\n",
              "      fill: #FFFFFF;\n",
              "    }\n",
              "  </style>\n",
              "\n",
              "      <script>\n",
              "        const buttonEl =\n",
              "          document.querySelector('#df-abd910e2-9608-4c10-bc4f-e228deec1a47 button.colab-df-convert');\n",
              "        buttonEl.style.display =\n",
              "          google.colab.kernel.accessAllowed ? 'block' : 'none';\n",
              "\n",
              "        async function convertToInteractive(key) {\n",
              "          const element = document.querySelector('#df-abd910e2-9608-4c10-bc4f-e228deec1a47');\n",
              "          const dataTable =\n",
              "            await google.colab.kernel.invokeFunction('convertToInteractive',\n",
              "                                                     [key], {});\n",
              "          if (!dataTable) return;\n",
              "\n",
              "          const docLinkHtml = 'Like what you see? Visit the ' +\n",
              "            '<a target=\"_blank\" href=https://colab.research.google.com/notebooks/data_table.ipynb>data table notebook</a>'\n",
              "            + ' to learn more about interactive tables.';\n",
              "          element.innerHTML = '';\n",
              "          dataTable['output_type'] = 'display_data';\n",
              "          await google.colab.output.renderOutput(dataTable, element);\n",
              "          const docLink = document.createElement('div');\n",
              "          docLink.innerHTML = docLinkHtml;\n",
              "          element.appendChild(docLink);\n",
              "        }\n",
              "      </script>\n",
              "    </div>\n",
              "  </div>\n",
              "  "
            ]
          },
          "metadata": {},
          "execution_count": 12
        }
      ]
    },
    {
      "cell_type": "code",
      "source": [
        "print(len(df.columns))\n",
        "df.columns"
      ],
      "metadata": {
        "colab": {
          "base_uri": "https://localhost:8080/"
        },
        "id": "yBrVw3qGD6dB",
        "outputId": "7a70fef6-ad74-4e54-cced-e22f2ec788b5"
      },
      "execution_count": 55,
      "outputs": [
        {
          "output_type": "stream",
          "name": "stdout",
          "text": [
            "16\n"
          ]
        },
        {
          "output_type": "execute_result",
          "data": {
            "text/plain": [
              "Index(['step', 'isFraud', 'isFlaggedFraud', 'oldbalanceOrg', 'newbalanceOrig',\n",
              "       'amount', 'oldbalanceDest', 'newbalanceDest', 'type_CASH_IN',\n",
              "       'type_CASH_OUT', 'type_DEBIT', 'type_PAYMENT', 'type_TRANSFER',\n",
              "       'nameOrig_C', 'nameDest_C', 'nameDest_M'],\n",
              "      dtype='object')"
            ]
          },
          "metadata": {},
          "execution_count": 55
        }
      ]
    },
    {
      "cell_type": "code",
      "source": [
        "# Save preprocessed dataset\n",
        "df.to_csv(folder_path+ 'preprocessed.csv')"
      ],
      "metadata": {
        "id": "lSIPFYnK6DKg"
      },
      "execution_count": 56,
      "outputs": []
    },
    {
      "cell_type": "markdown",
      "source": [
        "## Modelling\n",
        "\n",
        "* Train test split and explore the division "
      ],
      "metadata": {
        "id": "ZtYg6x9f-Jnn"
      }
    },
    {
      "cell_type": "code",
      "source": [
        "features = ['step', 'isFlaggedFraud', 'oldbalanceOrg', 'newbalanceOrig',\n",
        "       'amount', 'oldbalanceDest', 'newbalanceDest', 'type_CASH_IN',\n",
        "       'type_CASH_OUT', 'type_DEBIT', 'type_PAYMENT', 'type_TRANSFER',\n",
        "       'nameOrig_C', 'nameDest_C', 'nameDest_M']  \n",
        "target=['isFraud'] \n",
        "from sklearn.model_selection import train_test_split \n",
        "x_train, x_test, y_train, y_test = train_test_split(df[features],df['isFraud'], test_size=0.2, random_state=42) "
      ],
      "metadata": {
        "id": "ncsNXkK2B_XI"
      },
      "execution_count": 13,
      "outputs": []
    },
    {
      "cell_type": "code",
      "source": [
        "x_train.info()"
      ],
      "metadata": {
        "colab": {
          "base_uri": "https://localhost:8080/"
        },
        "id": "EfUbl8NeBYbN",
        "outputId": "b651bb6d-e581-45b8-cb15-c1b260787f52"
      },
      "execution_count": 16,
      "outputs": [
        {
          "output_type": "stream",
          "name": "stdout",
          "text": [
            "<class 'pandas.core.frame.DataFrame'>\n",
            "Int64Index: 5090096 entries, 6271196 to 1692743\n",
            "Data columns (total 15 columns):\n",
            " #   Column          Dtype  \n",
            "---  ------          -----  \n",
            " 0   step            int32  \n",
            " 1   isFlaggedFraud  int32  \n",
            " 2   oldbalanceOrg   float32\n",
            " 3   newbalanceOrig  float32\n",
            " 4   amount          float32\n",
            " 5   oldbalanceDest  float32\n",
            " 6   newbalanceDest  float32\n",
            " 7   type_CASH_IN    uint8  \n",
            " 8   type_CASH_OUT   uint8  \n",
            " 9   type_DEBIT      uint8  \n",
            " 10  type_PAYMENT    uint8  \n",
            " 11  type_TRANSFER   uint8  \n",
            " 12  nameOrig_C      uint8  \n",
            " 13  nameDest_C      uint8  \n",
            " 14  nameDest_M      uint8  \n",
            "dtypes: float32(5), int32(2), uint8(8)\n",
            "memory usage: 213.6 MB\n"
          ]
        }
      ]
    },
    {
      "cell_type": "code",
      "source": [
        "y_train"
      ],
      "metadata": {
        "colab": {
          "base_uri": "https://localhost:8080/"
        },
        "id": "lYEG7Un5BkoD",
        "outputId": "7bc7f405-6cf4-4c49-c206-1cefc2a5f6dd"
      },
      "execution_count": 18,
      "outputs": [
        {
          "output_type": "execute_result",
          "data": {
            "text/plain": [
              "6271196    0\n",
              "1888243    0\n",
              "5549957    0\n",
              "2025342    0\n",
              "682342     0\n",
              "          ..\n",
              "1570006    0\n",
              "2234489    0\n",
              "4926484    0\n",
              "4304572    0\n",
              "1692743    0\n",
              "Name: isFraud, Length: 5090096, dtype: int32"
            ]
          },
          "metadata": {},
          "execution_count": 18
        }
      ]
    },
    {
      "cell_type": "code",
      "source": [
        "len(x_train), len(x_test)"
      ],
      "metadata": {
        "colab": {
          "base_uri": "https://localhost:8080/"
        },
        "id": "Sba84TNF7Vq7",
        "outputId": "1e16af1d-e74f-45d0-d206-283486023544"
      },
      "execution_count": 76,
      "outputs": [
        {
          "output_type": "execute_result",
          "data": {
            "text/plain": [
              "(5090096, 1272524)"
            ]
          },
          "metadata": {},
          "execution_count": 76
        }
      ]
    },
    {
      "cell_type": "code",
      "source": [
        "y_test.value_counts() "
      ],
      "metadata": {
        "colab": {
          "base_uri": "https://localhost:8080/"
        },
        "id": "cCuxC3MP-SKe",
        "outputId": "9f0b24a4-466b-4c8f-91e3-8575f31dce86"
      },
      "execution_count": 83,
      "outputs": [
        {
          "output_type": "execute_result",
          "data": {
            "text/plain": [
              "0    1270904\n",
              "1       1620\n",
              "Name: isFraud, dtype: int64"
            ]
          },
          "metadata": {},
          "execution_count": 83
        }
      ]
    },
    {
      "cell_type": "markdown",
      "source": [
        "* We observe the class distribution in y_train and y_test, training and test set has imbalanced classes. \n",
        "* Imbalance in training set will result in poor model. \n",
        "* Thus sampling of training set is employed. \n",
        "\n",
        "### Sampling \n",
        "\n",
        "* SMOTE is used to oversample the minority class-here 'Fraud'(1) class\n",
        "* Minority class is sampled with 0.025 times the majority class \n",
        "* Not-Fraud class (0) is undersampled to double teh number of 'Fraud' class"
      ],
      "metadata": {
        "id": "nqj5-d_-0sJm"
      }
    },
    {
      "cell_type": "code",
      "source": [
        "from imblearn.under_sampling import RandomUnderSampler\n",
        "from imblearn.over_sampling import SMOTE \n",
        "from imblearn.pipeline import Pipeline\n",
        "from collections import Counter \n",
        "over = SMOTE(sampling_strategy=0.025) \n",
        "under=RandomUnderSampler(random_state=42, sampling_strategy=0.5)\n",
        "steps = [('o', over),('u', under)] \n",
        "pipeline = Pipeline(steps=steps) \n",
        "x_res, y_res = pipeline.fit_resample(x_train[features], y_train) \n",
        "print(Counter(y_res)) "
      ],
      "metadata": {
        "colab": {
          "base_uri": "https://localhost:8080/"
        },
        "id": "miHAfLg8Oyw2",
        "outputId": "546e1c27-dd98-40db-cd30-4f785893d4b6"
      },
      "execution_count": 19,
      "outputs": [
        {
          "output_type": "stream",
          "name": "stdout",
          "text": [
            "Counter({0: 254174, 1: 127087})\n"
          ]
        }
      ]
    },
    {
      "cell_type": "markdown",
      "source": [
        "### Fit the Model \n",
        "\n",
        "* RandomForestClassifier and Logistic Regression is chosen for modelling. \n",
        "* Hyperparameters are chosen after experimention and prior experience. \n",
        "* Model is saved. "
      ],
      "metadata": {
        "id": "NcNrn2Bt2qAX"
      }
    },
    {
      "cell_type": "code",
      "source": [
        "from sklearn.ensemble import RandomForestClassifier \n",
        "clf = RandomForestClassifier(criterion = 'gini',\n",
        "                              max_depth = 48,\n",
        "                              max_features = 'sqrt',\n",
        "                              n_estimators = 300)\n",
        "                             \n",
        "\n",
        "clf.fit(x_res, y_res) "
      ],
      "metadata": {
        "colab": {
          "base_uri": "https://localhost:8080/"
        },
        "id": "VarLeffwzw7n",
        "outputId": "74aee7ed-db02-4115-d158-eaf3bdf53ba8"
      },
      "execution_count": 64,
      "outputs": [
        {
          "output_type": "execute_result",
          "data": {
            "text/plain": [
              "RandomForestClassifier(max_depth=48, max_features='sqrt', n_estimators=300)"
            ]
          },
          "metadata": {},
          "execution_count": 64
        }
      ]
    },
    {
      "cell_type": "code",
      "source": [
        "import joblib\n",
        "f_name = folder_path + 'rf_model.sav'\n",
        "joblib.dump(clf, f_name)"
      ],
      "metadata": {
        "colab": {
          "base_uri": "https://localhost:8080/"
        },
        "id": "WCujyZQ50Kih",
        "outputId": "9f7c842d-3fcf-4f54-f396-61bb93b97400"
      },
      "execution_count": 69,
      "outputs": [
        {
          "output_type": "execute_result",
          "data": {
            "text/plain": [
              "['/content/drive/MyDrive/ETE_projects/Fraud_Transactions/rf_model.sav']"
            ]
          },
          "metadata": {},
          "execution_count": 69
        }
      ]
    },
    {
      "cell_type": "code",
      "source": [
        "score = clf.score(x_test,y_test)\n",
        "y_preds = clf.predict(x_test)\n",
        "score, y_preds "
      ],
      "metadata": {
        "colab": {
          "base_uri": "https://localhost:8080/"
        },
        "id": "o8l5ZFhs09sF",
        "outputId": "2d32da8b-7001-4e8e-ac2a-03108c41806e"
      },
      "execution_count": 65,
      "outputs": [
        {
          "output_type": "execute_result",
          "data": {
            "text/plain": [
              "(0.9962185389037849, array([0, 0, 0, ..., 0, 0, 0], dtype=int32))"
            ]
          },
          "metadata": {},
          "execution_count": 65
        }
      ]
    },
    {
      "cell_type": "markdown",
      "source": [
        "* 99.6% accuracy is obtained on test data.  \n",
        "\n",
        "## Visualizing Results \n",
        "\n",
        "### Confusion Matrix"
      ],
      "metadata": {
        "id": "zMnGwlR13F8U"
      }
    },
    {
      "cell_type": "code",
      "source": [
        "fig, ax = plt.subplots(figsize = (8,8))\n",
        "from sklearn.metrics import ConfusionMatrixDisplay\n",
        "ConfusionMatrixDisplay.from_predictions(y_true = y_test,\n",
        "                                        y_pred = y_preds, ax=ax);"
      ],
      "metadata": {
        "colab": {
          "base_uri": "https://localhost:8080/",
          "height": 493
        },
        "id": "9D0aPoKGIgRz",
        "outputId": "66ca0521-509c-42de-9ce7-35b1a3a26fc9"
      },
      "execution_count": 67,
      "outputs": [
        {
          "output_type": "display_data",
          "data": {
            "text/plain": [
              "<Figure size 576x576 with 2 Axes>"
            ],
            "image/png": "[encoded data removed]"
          },
          "metadata": {}
        }
      ]
    },
    {
      "cell_type": "markdown",
      "source": [
        "* We observe that 22 'Fraud' classes has been miss predicted as non-Fraud. "
      ],
      "metadata": {
        "id": "WbsNHtI38S0D"
      }
    },
    {
      "cell_type": "markdown",
      "source": [
        "### Classification Report"
      ],
      "metadata": {
        "id": "CHkVp08Y3jtU"
      }
    },
    {
      "cell_type": "code",
      "source": [
        "c_r = (classification_report(y_test, y_preds, digits=4))\n",
        "print(c_r)"
      ],
      "metadata": {
        "colab": {
          "base_uri": "https://localhost:8080/"
        },
        "id": "iyFmkLvt7vLe",
        "outputId": "3f0127ce-39b7-4b03-ffb0-c8a8b18a0b65"
      },
      "execution_count": 80,
      "outputs": [
        {
          "output_type": "stream",
          "name": "stdout",
          "text": [
            "              precision    recall  f1-score   support\n",
            "\n",
            "           0     1.0000    0.9962    0.9981   1270904\n",
            "           1     0.2502    0.9864    0.3991      1620\n",
            "\n",
            "    accuracy                         0.9962   1272524\n",
            "   macro avg     0.6251    0.9913    0.6986   1272524\n",
            "weighted avg     0.9990    0.9962    0.9973   1272524\n",
            "\n"
          ]
        }
      ]
    },
    {
      "cell_type": "code",
      "source": [
        "from sklearn.metrics import plot_roc_curve \n",
        "plot_roc_curve(clf, x_test, y_test) "
      ],
      "metadata": {
        "colab": {
          "base_uri": "https://localhost:8080/",
          "height": 426
        },
        "id": "hpm00TypK5Tm",
        "outputId": "1fae3e32-7b02-41fb-b0a1-0721bff5f0b8"
      },
      "execution_count": 69,
      "outputs": [
        {
          "output_type": "stream",
          "name": "stderr",
          "text": [
            "/usr/local/lib/python3.7/dist-packages/sklearn/utils/deprecation.py:87: FutureWarning: Function plot_roc_curve is deprecated; Function :func:`plot_roc_curve` is deprecated in 1.0 and will be removed in 1.2. Use one of the class methods: :meth:`sklearn.metric.RocCurveDisplay.from_predictions` or :meth:`sklearn.metric.RocCurveDisplay.from_estimator`.\n",
            "  warnings.warn(msg, category=FutureWarning)\n"
          ]
        },
        {
          "output_type": "execute_result",
          "data": {
            "text/plain": [
              "<sklearn.metrics._plot.roc_curve.RocCurveDisplay at 0x7f9c1667e5d0>"
            ]
          },
          "metadata": {},
          "execution_count": 69
        },
        {
          "output_type": "display_data",
          "data": {
            "text/plain": [
              "<Figure size 432x288 with 1 Axes>"
            ],
            "image/png": "[encoded data removed]"
          },
          "metadata": {}
        }
      ]
    },
    {
      "cell_type": "markdown",
      "source": [
        "### Logistic Regression"
      ],
      "metadata": {
        "id": "MUjHJTTX3oby"
      }
    },
    {
      "cell_type": "code",
      "source": [
        "clf_lg = LogisticRegression(C=0.20433597178569418, \n",
        "                         solver = \"liblinear\")\n",
        "clf_lg.fit(x_train, y_train);"
      ],
      "metadata": {
        "id": "Pg5mXDZo8wOr"
      },
      "execution_count": 49,
      "outputs": []
    },
    {
      "cell_type": "code",
      "source": [
        "score_lg = clf_lg.score(x_test, y_test)\n",
        "y_preds_lg = clf_lg.predict(x_test)\n",
        "score_lg, y_preds_lg  "
      ],
      "metadata": {
        "colab": {
          "base_uri": "https://localhost:8080/"
        },
        "id": "g96riT2UAqtA",
        "outputId": "6e11f21c-bfc8-4c95-b215-572c54be16ae"
      },
      "execution_count": 50,
      "outputs": [
        {
          "output_type": "execute_result",
          "data": {
            "text/plain": [
              "(0.9993218202564352, array([0, 0, 0, ..., 0, 0, 0], dtype=int32))"
            ]
          },
          "metadata": {},
          "execution_count": 50
        }
      ]
    },
    {
      "cell_type": "code",
      "source": [
        "import pickle\n",
        "file_n = folder_path + 'lg_model.sav' \n",
        "pickle.dump(clf, open(file_n, 'wb'))        "
      ],
      "metadata": {
        "id": "W1KThc5nBFNL"
      },
      "execution_count": 92,
      "outputs": []
    },
    {
      "cell_type": "markdown",
      "source": [
        "* Logistic Regression Model has achieved ever higher accuracy of 99.9%"
      ],
      "metadata": {
        "id": "0ZsU2jEd3uJv"
      }
    },
    {
      "cell_type": "code",
      "source": [
        "fig, ax = plt.subplots(figsize = (8,8))\n",
        "from sklearn.metrics import ConfusionMatrixDisplay\n",
        "ConfusionMatrixDisplay.from_predictions(y_true = y_test,\n",
        "                                        y_pred = y_preds_lg, ax=ax);"
      ],
      "metadata": {
        "colab": {
          "base_uri": "https://localhost:8080/",
          "height": 493
        },
        "id": "LpNvAMDfJ3pR",
        "outputId": "78e5b445-6aa1-4fac-dff2-e4809bfa2dd9"
      },
      "execution_count": 59,
      "outputs": [
        {
          "output_type": "display_data",
          "data": {
            "text/plain": [
              "<Figure size 576x576 with 2 Axes>"
            ],
            "image/png": "[encoded data removed]"
          },
          "metadata": {}
        }
      ]
    },
    {
      "cell_type": "code",
      "source": [
        "c_r = (classification_report(y_test, y_preds_lg, digits=4))\n",
        "print(c_r)"
      ],
      "metadata": {
        "colab": {
          "base_uri": "https://localhost:8080/"
        },
        "id": "JhljxOSJG8Dl",
        "outputId": "e255eb2c-eceb-473e-9daf-c35c5a142d06"
      },
      "execution_count": 81,
      "outputs": [
        {
          "output_type": "stream",
          "name": "stdout",
          "text": [
            "              precision    recall  f1-score   support\n",
            "\n",
            "           0     0.9994    1.0000    0.9997   1270904\n",
            "           1     0.9376    0.5006    0.6527      1620\n",
            "\n",
            "    accuracy                         0.9993   1272524\n",
            "   macro avg     0.9685    0.7503    0.8262   1272524\n",
            "weighted avg     0.9993    0.9993    0.9992   1272524\n",
            "\n"
          ]
        }
      ]
    },
    {
      "cell_type": "code",
      "source": [
        "from sklearn.metrics import plot_roc_curve \n",
        "plot_roc_curve(clf_lg, x_test, y_test) "
      ],
      "metadata": {
        "colab": {
          "base_uri": "https://localhost:8080/",
          "height": 426
        },
        "id": "vGU57w8NKyhX",
        "outputId": "c8a89122-ae7c-4669-ac4e-492e262385ce"
      },
      "execution_count": 63,
      "outputs": [
        {
          "output_type": "stream",
          "name": "stderr",
          "text": [
            "/usr/local/lib/python3.7/dist-packages/sklearn/utils/deprecation.py:87: FutureWarning: Function plot_roc_curve is deprecated; Function :func:`plot_roc_curve` is deprecated in 1.0 and will be removed in 1.2. Use one of the class methods: :meth:`sklearn.metric.RocCurveDisplay.from_predictions` or :meth:`sklearn.metric.RocCurveDisplay.from_estimator`.\n",
            "  warnings.warn(msg, category=FutureWarning)\n"
          ]
        },
        {
          "output_type": "execute_result",
          "data": {
            "text/plain": [
              "<sklearn.metrics._plot.roc_curve.RocCurveDisplay at 0x7f9c19e9b650>"
            ]
          },
          "metadata": {},
          "execution_count": 63
        },
        {
          "output_type": "display_data",
          "data": {
            "text/plain": [
              "<Figure size 432x288 with 1 Axes>"
            ],
            "image/png": "[encoded data removed]"
          },
          "metadata": {}
        }
      ]
    },
    {
      "cell_type": "markdown",
      "source": [
        "* Even though logistic Regression has given higher accuracy, RandomForestClassifier is more  reliable.\n",
        "* As false negatives is lesser in RandomForest, ie, 'Fraud' detected as 'non-Fraud' is very less. "
      ],
      "metadata": {
        "id": "Ll7hiiNiK-hs"
      }
    },
    {
      "cell_type": "markdown",
      "source": [
        "## Feature Importance\n",
        "\n",
        "* Logistic regression algorithm which is based on independent variables and coefficient attached to it, thus has measure of features that has played important role. "
      ],
      "metadata": {
        "id": "TWCH69y937Ry"
      }
    },
    {
      "cell_type": "code",
      "source": [
        "# check cefficients\n",
        "clf_lg.coef_"
      ],
      "metadata": {
        "colab": {
          "base_uri": "https://localhost:8080/"
        },
        "id": "dqZ6xk2GCBI5",
        "outputId": "e85de622-1a04-4d7b-ad3a-2aea8d48ec83"
      },
      "execution_count": 66,
      "outputs": [
        {
          "output_type": "execute_result",
          "data": {
            "text/plain": [
              "array([[ 4.65628901e-03,  8.69872600e-01,  2.62287600e+00,\n",
              "        -7.22176889e-01, -2.83165406e-01,  3.59154911e-03,\n",
              "        -1.81465469e-01, -6.35228255e+00,  8.00453306e-01,\n",
              "        -3.22746989e-01, -5.39313466e+00,  9.45924399e-01,\n",
              "        -1.03217865e+01, -4.92865184e+00, -5.39313466e+00]])"
            ]
          },
          "metadata": {},
          "execution_count": 66
        }
      ]
    },
    {
      "cell_type": "code",
      "source": [
        "len(x_train.columns)"
      ],
      "metadata": {
        "colab": {
          "base_uri": "https://localhost:8080/"
        },
        "id": "c0x-DckSElLz",
        "outputId": "9c21939e-fe0b-44fd-b155-b4457103d424"
      },
      "execution_count": 30,
      "outputs": [
        {
          "output_type": "execute_result",
          "data": {
            "text/plain": [
              "15"
            ]
          },
          "metadata": {},
          "execution_count": 30
        }
      ]
    },
    {
      "cell_type": "code",
      "source": [
        "# get importance\n",
        "importance = clf_lg.coef_[0]\n",
        "# summarize feature importance\n",
        "for i,v in enumerate(importance):\n",
        "\tprint('Feature: %0d, Score: %.5f' % (i,v))"
      ],
      "metadata": {
        "colab": {
          "base_uri": "https://localhost:8080/"
        },
        "id": "r_n8iMfcEekc",
        "outputId": "47ef6c08-72dc-43a0-db25-c7d69976a75e"
      },
      "execution_count": 74,
      "outputs": [
        {
          "output_type": "stream",
          "name": "stdout",
          "text": [
            "Feature: 0, Score: 0.00466\n",
            "Feature: 1, Score: 0.86987\n",
            "Feature: 2, Score: 2.62288\n",
            "Feature: 3, Score: -0.72218\n",
            "Feature: 4, Score: -0.28317\n",
            "Feature: 5, Score: 0.00359\n",
            "Feature: 6, Score: -0.18147\n",
            "Feature: 7, Score: -6.35228\n",
            "Feature: 8, Score: 0.80045\n",
            "Feature: 9, Score: -0.32275\n",
            "Feature: 10, Score: -5.39313\n",
            "Feature: 11, Score: 0.94592\n",
            "Feature: 12, Score: -10.32179\n",
            "Feature: 13, Score: -4.92865\n",
            "Feature: 14, Score: -5.39313\n"
          ]
        }
      ]
    },
    {
      "cell_type": "code",
      "source": [
        "# match for labels\n",
        "feature_dict = dict(zip(x_train.columns, list(clf_lg.coef_[0])))\n",
        "feature_dict "
      ],
      "metadata": {
        "colab": {
          "base_uri": "https://localhost:8080/"
        },
        "id": "nVg2IZ8_8wXM",
        "outputId": "7c457f50-ce44-4431-f28e-1fc406408d2a"
      },
      "execution_count": 76,
      "outputs": [
        {
          "output_type": "execute_result",
          "data": {
            "text/plain": [
              "{'step': 0.004656289013724419,\n",
              " 'isFlaggedFraud': 0.8698726000742544,\n",
              " 'oldbalanceOrg': 2.6228760037515784,\n",
              " 'newbalanceOrig': -0.7221768889810366,\n",
              " 'amount': -0.2831654057222859,\n",
              " 'oldbalanceDest': 0.003591549111341628,\n",
              " 'newbalanceDest': -0.18146546918754736,\n",
              " 'type_CASH_IN': -6.352282554466994,\n",
              " 'type_CASH_OUT': 0.8004533064584293,\n",
              " 'type_DEBIT': -0.3227469888181435,\n",
              " 'type_PAYMENT': -5.393134658368212,\n",
              " 'type_TRANSFER': 0.9459243991976514,\n",
              " 'nameOrig_C': -10.32178649561862,\n",
              " 'nameDest_C': -4.928651837304061,\n",
              " 'nameDest_M': -5.393134658368212}"
            ]
          },
          "metadata": {},
          "execution_count": 76
        }
      ]
    },
    {
      "cell_type": "code",
      "source": [
        "sns.set_style('whitegrid')\n",
        "feature_df = pd.DataFrame(feature_dict, index=[0])\n",
        "feature_df.T.plot.bar(title=\"Feature Importance\", legend=False);"
      ],
      "metadata": {
        "colab": {
          "base_uri": "https://localhost:8080/",
          "height": 415
        },
        "id": "PjrGTHeOAdF_",
        "outputId": "1892bf47-66f5-47de-8419-ecfb943a26d5"
      },
      "execution_count": 79,
      "outputs": [
        {
          "output_type": "display_data",
          "data": {
            "text/plain": [
              "<Figure size 432x288 with 1 Axes>"
            ],
            "image/png": "[encoded data removed]"
          },
          "metadata": {}
        }
      ]
    },
    {
      "cell_type": "markdown",
      "source": [
        "* This is a classification problem with classes 0 and 1. \n",
        "* The positive scores indicate a feature that predicts class 1, whereas the negative scores indicate a feature that predicts class 0.\n",
        "* 'isFlaggedFraud', 'oldbalanceOrg', 'type_CASH_OUT', 'type_TRANSFER' are fraud causing/predicting features. \n",
        "* This 'isFlaggedFraud' column that marks illegal attempts based on the specified condition of software has played\n",
        "important role and addon to fraud transaction\n",
        "* 'Cash-Out' and 'Transfer' mode have found to be modes through which fraud takes place. \n"
      ],
      "metadata": {
        "id": "aFHxVJa-A_fL"
      }
    },
    {
      "cell_type": "markdown",
      "source": [
        "### Summary \n",
        "<pre>\n",
        "\n",
        "1. Data cleaning including missing values, outliers and multi-collinearity.\n",
        "   - There are no null values. Thus not much of data cleaning is involved. \n",
        "   - Outliers are not removed for preserving loss of data based on transaction  and tree based algorithms are robust in handling outliers. \n",
        "   - Correlation is checked with following observation:\n",
        "      - Most of the datapoints are not correlated.\n",
        "      - Oldbalance is correlated with new_balance of person who intitiated transaction.\n",
        "      - newbalanceDest and oldbalanceDest is correlated.\n",
        "      - It is obivous to correlate as substraction and addition of the amount happens and thus these coluns are correlated.\n",
        "      - Thus I don't delete any of the columns as there is no explicit correlation between unrelated variables. \n",
        "  \n",
        "2. Description of fraud detection model in elaboration. \n",
        "\n",
        "   Fraud Detection Model contains following steps:\n",
        "   -Import and Explore Dataset\n",
        "   -Remove correlation if there is correlation between unrelated features. \n",
        "   -Apply Variable Transformation on the skewed columns. \n",
        "   -Apply onehot encoding on categorical variables\n",
        "   -Preserve customer and merchant id information to form additional categorical features. \n",
        "   -Train test split with 80-20 rule. \n",
        "   -Apply sampling for class imbalance. \n",
        "   -Fit the model to RandomForestClassifier and Logistic Regression. \n",
        "   -Visualize and analyse the results. \n",
        "\n",
        "3. Selection of variables to be included in the model\n",
        "   Variables are selected based on following criteria:\n",
        "   -Relevance of the variables. \n",
        "   -Non-collinearity and no significant correlation to prevent model from being sensitive. \n",
        "   -Corecting the skewness.  \n",
        "   -Creating additional features if required.\n",
        "   -Normalized data (here transformation have played this role)\n",
        "\n",
        "4. Evaluation of performance of the model \n",
        "   \n",
        "   Accuracy: \n",
        "   -Accuracy is used for measuring accuracy. \n",
        "   -Only accuracy cannot be relied as in Fraud detection problem, recall and precision is more important than other metrics. \n",
        "   Classification report:\n",
        "   -It gives complete picture of precision-recall and f1-score. \n",
        "   -RandomForestClassifier gives more recall rate and less precision where as logistic Regression is vice-versa. \n",
        "   -Recall is important in this problem as we want our model to spot as many real 1 as possible. \n",
        "   -Thus RandomForest is the best performing model.  \n",
        "   Confusion Matrix:\n",
        "   -This metric gives best view and understanding regarding the prediction done by the model. \n",
        "   -RandomForestClassifier has given less number of False  Negative -22 where as logistic regression has given 809 False Negatives. Thus RF is more reliable. \n",
        "   ROC curve:\n",
        "   - ROC Curve is plotted to visualize true-positive rate and true negative rate. \n",
        "\n",
        "5. Key factors that predict fraudulent customer \n",
        "   'isFlaggedFraud', 'oldbalanceOrg', 'type_CASH_OUT', 'type_TRANSFER' are fraud causing/predicting features.\n",
        "\n",
        "6. Do these factors make sense? \n",
        "   Yes, these factors absolutely makes sense. \n",
        "   <b>isFlaggedFraud</b> \n",
        "   -column that marks illegal attempts based on the specified condition of software has played important role and addon to fraud detection. Thus the existing software that classifies the attempts based on upper limit of amount as criteria is important precautionary flag. \n",
        "   <b>oldbalanceOrg</b>\n",
        "   - This clearly indicates that customer/individual with more balance in his account is prone to fraud transaction. \n",
        "   - Indirectly we can also infer that account/individuals with more cash is pre-tracked by fraudsters both online and offline. \n",
        "   <b>Cash-Out</b>\n",
        "   - Cashout refers to convert non-cash asset into Cash. Thus online selling of large goods etc is more prone to frauds. \n",
        "   <b>Transfer</b>\n",
        "   - Uninformed/half informed transfers mode have found to be modes through which fraud takes place. \n",
        "\n",
        "7. Prevention should be adopted while company update its infrastructure? \n",
        "  - Can implement multiple account/distributed for account with huge balance.\n",
        "  - Sperate account for online transactions. \n",
        "  - Special mode for cash out transactions. \n",
        "  - Special regestering of account users for transfer modes. \n",
        "8. Assuming these actions have been implemented, how would you determine if they work? \n",
        "  - Data of implemented software must be collected and must analyze the results. \n",
        "</pre>\n",
        "\n",
        "     \n",
        "\n"
      ],
      "metadata": {
        "id": "DhWZ07LoMNq1"
      }
    },
    {
      "cell_type": "code",
      "source": [],
      "metadata": {
        "id": "olnPx9dCYows"
      },
      "execution_count": null,
      "outputs": []
    }
  ]
}
